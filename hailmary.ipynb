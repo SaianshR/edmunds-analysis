{
 "cells": [
  {
   "cell_type": "code",
   "execution_count": 69,
   "metadata": {},
   "outputs": [],
   "source": [
    "import pandas as pd\n",
    "import numpy as np\n",
    "import string\n",
    "from nltk.corpus import stopwords\n",
    "import matplotlib.pyplot as plt\n",
    "import seaborn as sns\n",
    "from nltk import FreqDist\n",
    "from sklearn.manifold import MDS\n",
    "from matplotlib.offsetbox import OffsetImage, AnnotationBbox"
   ]
  },
  {
   "cell_type": "markdown",
   "metadata": {},
   "source": [
    "## Task B"
   ]
  },
  {
   "cell_type": "code",
   "execution_count": 70,
   "metadata": {},
   "outputs": [
    {
     "data": {
      "text/plain": [
       "0      acura\n",
       "1      acura\n",
       "2      acura\n",
       "3      acura\n",
       "4      acura\n",
       "       ...  \n",
       "525    volvo\n",
       "526    volvo\n",
       "527    volvo\n",
       "528    volvo\n",
       "529    volvo\n",
       "Name: Brand, Length: 530, dtype: object"
      ]
     },
     "execution_count": 70,
     "metadata": {},
     "output_type": "execute_result"
    }
   ],
   "source": [
    "# brand model switch\n",
    "brand_model_map = pd.read_csv('car models and brands (3).csv')\n",
    "\n",
    "brand_model_map['Brand'] = brand_model_map['Brand'].astype('string')\n",
    "brand_model_map['Model'] = brand_model_map['Model'].astype('string')\n",
    "\n",
    "brand_model_map['Model'].apply(str.lower)\n",
    "brand_model_map['Brand'].apply(str.lower)"
   ]
  },
  {
   "cell_type": "code",
   "execution_count": 71,
   "metadata": {},
   "outputs": [],
   "source": [
    "data = pd.read_csv('edmunds_forum.csv')\n",
    "data['comments'] = data['comments'].str[1:]"
   ]
  },
  {
   "cell_type": "code",
   "execution_count": 72,
   "metadata": {},
   "outputs": [],
   "source": [
    "def punctuation_extermination(s):\n",
    "    o = str.maketrans('', '', string.punctuation)\n",
    "    return str(s).translate(o)\n",
    "\n",
    "data['comments'] = data['comments'].apply(punctuation_extermination)\n",
    "\n",
    "# # Turns all comments to lowercase\n",
    "# count = 0\n",
    "# for comment in data[\"comments\"]:\n",
    "#     temp = \"\"\n",
    "#     for word in comment:\n",
    "#         word = str(word).lower()\n",
    "#         temp += word\n",
    "#     data[\"comments\"][count] = temp\n",
    "#     count += 1"
   ]
  },
  {
   "cell_type": "code",
   "execution_count": 73,
   "metadata": {},
   "outputs": [],
   "source": [
    "corpus = \"\"\n",
    "for l in data['comments']:\n",
    "    l = str(l).lower()\n",
    "    corpus += l\n",
    "\n",
    "\n",
    "corpus = corpus.split()\n",
    "corpus_without_stop = [word for word in corpus if word not in stopwords.words(\"english\")]\n",
    "# corpus_without_stop[:500]"
   ]
  },
  {
   "cell_type": "code",
   "execution_count": 74,
   "metadata": {},
   "outputs": [],
   "source": [
    "set(brand_model_map[\"Model\"])\n",
    "modellookup = brand_model_map.set_index(\"Model\").to_dict()[\"Brand\"]"
   ]
  },
  {
   "cell_type": "code",
   "execution_count": 75,
   "metadata": {},
   "outputs": [],
   "source": [
    "def mbswitch(x):\n",
    "    t = x.split()\n",
    "    for word in t:\n",
    "        if word in modellookup:\n",
    "            x = x.replace(word, modellookup[word])\n",
    "    return x\n",
    "\n",
    "corpus_without_stop = [x.lower() for x in corpus_without_stop]\n",
    "corpus_swapped = [mbswitch(x) for x in corpus_without_stop]\n",
    "data['comments'] = data['comments'].apply(lambda i: i.lower())\n",
    "data['comments'] = data['comments'].apply(lambda i: (mbswitch(i)))"
   ]
  },
  {
   "cell_type": "code",
   "execution_count": 76,
   "metadata": {},
   "outputs": [],
   "source": [
    "import re\n",
    "brandlist = [brand_model_map[\"Brand\"]]"
   ]
  },
  {
   "cell_type": "code",
   "execution_count": 77,
   "metadata": {},
   "outputs": [],
   "source": [
    "freq_dict = {}\n",
    "for word in corpus_swapped:\n",
    "    if word not in freq_dict.keys():\n",
    "        freq_dict[word] = 1\n",
    "    elif word in freq_dict.keys():\n",
    "        freq_dict[word] += 1\n",
    "    else:\n",
    "        print('error')"
   ]
  },
  {
   "cell_type": "code",
   "execution_count": 83,
   "metadata": {},
   "outputs": [],
   "source": [
    "brand_strings = (brand_model_map['Brand'].values)\n",
    "\n",
    "brand_strings = set(brand_strings)\n",
    "car_dict = {}\n",
    "for package in brand_strings:\n",
    "    if package in freq_dict.keys():\n",
    "        car_dict[package] = freq_dict[package]"
   ]
  },
  {
   "cell_type": "code",
   "execution_count": 84,
   "metadata": {},
   "outputs": [
    {
     "data": {
      "text/plain": [
       "{'pontiac': 177,\n",
       " 'bmw': 6527,\n",
       " 'chevrolet': 279,\n",
       " 'cadillac': 420,\n",
       " 'audi': 2045,\n",
       " 'mercedes': 87,\n",
       " 'chrysler': 153,\n",
       " 'mazda': 267,\n",
       " 'saturn': 43,\n",
       " 'ford': 432,\n",
       " 'nissan': 797,\n",
       " 'volkswagen': 450,\n",
       " 'dodge': 170,\n",
       " 'mercury': 19,\n",
       " 'subaru': 476,\n",
       " 'hyundai': 357,\n",
       " 'suzuki': 30,\n",
       " 'acura': 1542,\n",
       " 'volvo': 649,\n",
       " 'mitsubishi': 52,\n",
       " 'lincoln': 429,\n",
       " 'buick': 194,\n",
       " 'honda': 1271,\n",
       " 'hyndai kia': 2,\n",
       " 'kia.': 1,\n",
       " 'mercedes-benz': 384,\n",
       " 'toyota': 961,\n",
       " 'kia': 39,\n",
       " 'infiniti': 1046}"
      ]
     },
     "execution_count": 84,
     "metadata": {},
     "output_type": "execute_result"
    }
   ],
   "source": [
    "# Removes cars that return 0 freq value\n",
    "removeList = ['car', 'problem', 'seat', 'sedan', 'volkwagen']\n",
    "for key in car_dict.keys():\n",
    "    if car_dict[key] == 0:\n",
    "        removeList.append(key)\n",
    "\n",
    "for car in removeList:\n",
    "    del car_dict[car]\n",
    "\n",
    "car_dict"
   ]
  },
  {
   "cell_type": "code",
   "execution_count": 106,
   "metadata": {},
   "outputs": [
    {
     "data": {
      "text/plain": [
       "['bmw',\n",
       " 'audi',\n",
       " 'acura',\n",
       " 'honda',\n",
       " 'infiniti',\n",
       " 'toyota',\n",
       " 'nissan',\n",
       " 'volvo',\n",
       " 'subaru',\n",
       " 'volkswagen']"
      ]
     },
     "execution_count": 106,
     "metadata": {},
     "output_type": "execute_result"
    }
   ],
   "source": [
    "top10BrandsDict = dict(sorted(car_dict.items(), key=lambda item: item[1], reverse= True)[:10])\n",
    "\n",
    "top10Brands = list(top10BrandsDict.keys())\n",
    "\n",
    "top10Brands"
   ]
  },
  {
   "cell_type": "markdown",
   "metadata": {},
   "source": [
    "## Task C"
   ]
  },
  {
   "cell_type": "code",
   "execution_count": 103,
   "metadata": {},
   "outputs": [],
   "source": [
    "lift_dict = pd.DataFrame(index= top10Brands, columns= top10Brands)\n",
    "total_shape = data.shape[0]\n",
    "for i in range(len(top10Brands)):\n",
    "    for j in range(len(top10Brands)):\n",
    "        brand_1 = top10Brands[i]\n",
    "        brand_2 = top10Brands[j]\n",
    "        count_1 = 0\n",
    "        count_2 = 0\n",
    "        count_3 = 0\n",
    "        \n",
    "        for txt in data.comments.values:\n",
    "            if brand_1 in txt and brand_2 in txt:\n",
    "                count_3 = count_3 + 1\n",
    "            elif brand_1 in txt and brand_2 not in txt:\n",
    "                count_1 = count_1 + 1 \n",
    "            elif brand_1 not in txt and brand_2 in txt:\n",
    "                count_2 = count_2 + 1\n",
    "        \n",
    "        if(brand_1==brand_2):\n",
    "            lift_dict[brand_1][brand_2] = 0\n",
    "\n",
    "        else:\n",
    "            pa = count_1/total_shape\n",
    "            pb = count_2/total_shape\n",
    "            pab = count_3/total_shape\n",
    "            ans = (pa*pb)/pab\n",
    "            \n",
    "            lift_dict[brand_1][brand_2] = round(1/ans,3)"
   ]
  },
  {
   "cell_type": "code",
   "execution_count": 104,
   "metadata": {},
   "outputs": [
    {
     "name": "stderr",
     "output_type": "stream",
     "text": [
      "/Library/Frameworks/Python.framework/Versions/3.10/lib/python3.10/site-packages/sklearn/manifold/_mds.py:512: UserWarning: The MDS API has changed. ``fit`` now constructs an dissimilarity matrix from data. To use a custom dissimilarity matrix, set ``dissimilarity='precomputed'``.\n",
      "  warnings.warn(\n"
     ]
    },
    {
     "data": {
      "text/plain": [
       "array([[ 0.17032106,  0.72093278],\n",
       "       [ 3.32362636, -5.702624  ],\n",
       "       [ 2.17736704,  5.85649958],\n",
       "       [-3.98796643, -6.38343955],\n",
       "       [-6.2983281 , -1.88169982],\n",
       "       [ 5.35465243,  4.17700652],\n",
       "       [ 5.82494468, -1.31963403],\n",
       "       [-4.61846294,  2.26301726],\n",
       "       [ 0.74449119, -2.39926924],\n",
       "       [-2.69064528,  4.6692105 ]])"
      ]
     },
     "execution_count": 104,
     "metadata": {},
     "output_type": "execute_result"
    }
   ],
   "source": [
    "# import math\n",
    "# if math.isnan(lift_dict):\n",
    "#     lift_dict = 0\n",
    "\n",
    "\n",
    "mdslifts = lift_dict\n",
    "mdslifts.reset_index(drop=True, inplace=True)\n",
    "mds = MDS(random_state=0)\n",
    "mdslifts = mds.fit_transform(mdslifts)\n",
    "mdslifts"
   ]
  },
  {
   "cell_type": "code",
   "execution_count": 105,
   "metadata": {},
   "outputs": [
    {
     "data": {
      "image/png": "[encoded data removed]",
      "text/plain": [
       "<Figure size 1000x400 with 1 Axes>"
      ]
     },
     "metadata": {},
     "output_type": "display_data"
    }
   ],
   "source": [
    "colors = ['#41FB29', '#3C83E2', '#C41965', '#E56FC1', '#0F817B', '#60446F', '#E45A2B', '#D4E24F', '#F2CF2B', '#04AFD4']\n",
    "\n",
    "size = [64, 64, 64, 64, 64, 64, 64, 64, 64, 64] ##41FB29\n",
    "fig = plt.figure(2, (10,4))\n",
    "plt.scatter(mdslifts[:,0], mdslifts[:,1], s=size, c=colors)\n",
    "count = 0\n",
    "for x, y in zip(mdslifts[:,0], mdslifts[:,1]):\n",
    "    label = \"{0}\".format(top10Brands[count])\n",
    "    count += 1\n",
    "    plt.annotate(label, # this is the text\n",
    "                 (x,y), # these are the coordinates to position the label\n",
    "                 textcoords=\"offset points\", # how to position the text\n",
    "                 xytext=(0,10), # distance from text to points (x,y)\n",
    "                 ha=('center') # horizontal alignment\n",
    "    )\n",
    "plt.title('mds')\n",
    "plt.show()"
   ]
  }
 ],
 "metadata": {
  "kernelspec": {
   "display_name": "Python 3.10.6 64-bit",
   "language": "python",
   "name": "python3"
  },
  "language_info": {
   "codemirror_mode": {
    "name": "ipython",
    "version": 3
   },
   "file_extension": ".py",
   "mimetype": "text/x-python",
   "name": "python",
   "nbconvert_exporter": "python",
   "pygments_lexer": "ipython3",
   "version": "3.10.6"
  },
  "orig_nbformat": 4,
  "vscode": {
   "interpreter": {
    "hash": "aee8b7b246df8f9039afb4144a1f6fd8d2ca17a180786b69acc140d282b71a49"
   }
  }
 },
 "nbformat": 4,
 "nbformat_minor": 2
}
