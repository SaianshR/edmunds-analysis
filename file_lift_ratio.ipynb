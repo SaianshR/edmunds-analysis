{
 "cells": [
  {
   "cell_type": "code",
   "execution_count": 24,
   "metadata": {},
   "outputs": [],
   "source": [
    "import pandas as pd\n",
    "import numpy as np\n",
    "import pandas as pd\n",
    "import matplotlib.pyplot as plt\n",
    "import seaborn as sns\n",
    "from nltk import FreqDist\n",
    "from sklearn.manifold import MDS\n",
    "from matplotlib.offsetbox import OffsetImage, AnnotationBbox\n",
    "\n",
    "#To ignore warning messages\n",
    "import warnings\n",
    "warnings.filterwarnings('ignore')\n"
   ]
  },
  {
   "cell_type": "code",
   "execution_count": 25,
   "metadata": {},
   "outputs": [],
   "source": [
    "data1 = pd.read_csv('car models and brands (3).csv')\n",
    "data2 = pd.read_csv('edmunds_forum.csv')"
   ]
  },
  {
   "cell_type": "code",
   "execution_count": 26,
   "metadata": {},
   "outputs": [
    {
     "data": {
      "text/html": [
       "<div>\n",
       "<style scoped>\n",
       "    .dataframe tbody tr th:only-of-type {\n",
       "        vertical-align: middle;\n",
       "    }\n",
       "\n",
       "    .dataframe tbody tr th {\n",
       "        vertical-align: top;\n",
       "    }\n",
       "\n",
       "    .dataframe thead th {\n",
       "        text-align: right;\n",
       "    }\n",
       "</style>\n",
       "<table border=\"1\" class=\"dataframe\">\n",
       "  <thead>\n",
       "    <tr style=\"text-align: right;\">\n",
       "      <th></th>\n",
       "      <th>Brand</th>\n",
       "      <th>Model</th>\n",
       "    </tr>\n",
       "  </thead>\n",
       "  <tbody>\n",
       "    <tr>\n",
       "      <th>0</th>\n",
       "      <td>acura</td>\n",
       "      <td>integra</td>\n",
       "    </tr>\n",
       "    <tr>\n",
       "      <th>1</th>\n",
       "      <td>acura</td>\n",
       "      <td>legend</td>\n",
       "    </tr>\n",
       "    <tr>\n",
       "      <th>2</th>\n",
       "      <td>acura</td>\n",
       "      <td>vigor</td>\n",
       "    </tr>\n",
       "    <tr>\n",
       "      <th>3</th>\n",
       "      <td>acura</td>\n",
       "      <td>rlx</td>\n",
       "    </tr>\n",
       "    <tr>\n",
       "      <th>4</th>\n",
       "      <td>acura</td>\n",
       "      <td>ilx</td>\n",
       "    </tr>\n",
       "  </tbody>\n",
       "</table>\n",
       "</div>"
      ],
      "text/plain": [
       "   Brand    Model\n",
       "0  acura  integra\n",
       "1  acura   legend\n",
       "2  acura    vigor\n",
       "3  acura      rlx\n",
       "4  acura      ilx"
      ]
     },
     "execution_count": 26,
     "metadata": {},
     "output_type": "execute_result"
    }
   ],
   "source": [
    "data1.head()"
   ]
  },
  {
   "cell_type": "code",
   "execution_count": 27,
   "metadata": {},
   "outputs": [
    {
     "data": {
      "text/html": [
       "<div>\n",
       "<style scoped>\n",
       "    .dataframe tbody tr th:only-of-type {\n",
       "        vertical-align: middle;\n",
       "    }\n",
       "\n",
       "    .dataframe tbody tr th {\n",
       "        vertical-align: top;\n",
       "    }\n",
       "\n",
       "    .dataframe thead th {\n",
       "        text-align: right;\n",
       "    }\n",
       "</style>\n",
       "<table border=\"1\" class=\"dataframe\">\n",
       "  <thead>\n",
       "    <tr style=\"text-align: right;\">\n",
       "      <th></th>\n",
       "      <th>Unnamed: 0</th>\n",
       "      <th>Date</th>\n",
       "      <th>comments</th>\n",
       "    </tr>\n",
       "  </thead>\n",
       "  <tbody>\n",
       "    <tr>\n",
       "      <th>0</th>\n",
       "      <td>0</td>\n",
       "      <td>March 24, 2002 10:54PM</td>\n",
       "      <td>\\nI personally think that with a few tweaks th...</td>\n",
       "    </tr>\n",
       "    <tr>\n",
       "      <th>1</th>\n",
       "      <td>1</td>\n",
       "      <td>March 25, 2002 12:06AM</td>\n",
       "      <td>\\nI am debating a new purchase and these two a...</td>\n",
       "    </tr>\n",
       "    <tr>\n",
       "      <th>2</th>\n",
       "      <td>2</td>\n",
       "      <td>March 25, 2002 10:02AM</td>\n",
       "      <td>\\nGreat handling, RWD, excellent engine and th...</td>\n",
       "    </tr>\n",
       "    <tr>\n",
       "      <th>3</th>\n",
       "      <td>3</td>\n",
       "      <td>March 25, 2002 4:04PM</td>\n",
       "      <td>\\nAnd no manual tranny. That may not matter to...</td>\n",
       "    </tr>\n",
       "    <tr>\n",
       "      <th>4</th>\n",
       "      <td>4</td>\n",
       "      <td>March 25, 2002 5:44PM</td>\n",
       "      <td>\\nOne beauty of BMW 3 Series is that there are...</td>\n",
       "    </tr>\n",
       "  </tbody>\n",
       "</table>\n",
       "</div>"
      ],
      "text/plain": [
       "   Unnamed: 0                    Date  \\\n",
       "0           0  March 24, 2002 10:54PM   \n",
       "1           1  March 25, 2002 12:06AM   \n",
       "2           2  March 25, 2002 10:02AM   \n",
       "3           3   March 25, 2002 4:04PM   \n",
       "4           4   March 25, 2002 5:44PM   \n",
       "\n",
       "                                            comments  \n",
       "0  \\nI personally think that with a few tweaks th...  \n",
       "1  \\nI am debating a new purchase and these two a...  \n",
       "2  \\nGreat handling, RWD, excellent engine and th...  \n",
       "3  \\nAnd no manual tranny. That may not matter to...  \n",
       "4  \\nOne beauty of BMW 3 Series is that there are...  "
      ]
     },
     "execution_count": 27,
     "metadata": {},
     "output_type": "execute_result"
    }
   ],
   "source": [
    "data2.head()"
   ]
  },
  {
   "cell_type": "code",
   "execution_count": 28,
   "metadata": {},
   "outputs": [],
   "source": [
    "data2.columns = ['Username','date','text']"
   ]
  },
  {
   "cell_type": "code",
   "execution_count": 29,
   "metadata": {},
   "outputs": [
    {
     "data": {
      "text/html": [
       "<div>\n",
       "<style scoped>\n",
       "    .dataframe tbody tr th:only-of-type {\n",
       "        vertical-align: middle;\n",
       "    }\n",
       "\n",
       "    .dataframe tbody tr th {\n",
       "        vertical-align: top;\n",
       "    }\n",
       "\n",
       "    .dataframe thead th {\n",
       "        text-align: right;\n",
       "    }\n",
       "</style>\n",
       "<table border=\"1\" class=\"dataframe\">\n",
       "  <thead>\n",
       "    <tr style=\"text-align: right;\">\n",
       "      <th></th>\n",
       "      <th>Username</th>\n",
       "      <th>date</th>\n",
       "      <th>text</th>\n",
       "    </tr>\n",
       "  </thead>\n",
       "  <tbody>\n",
       "    <tr>\n",
       "      <th>0</th>\n",
       "      <td>0</td>\n",
       "      <td>March 24, 2002 10:54PM</td>\n",
       "      <td>\\nI personally think that with a few tweaks th...</td>\n",
       "    </tr>\n",
       "    <tr>\n",
       "      <th>1</th>\n",
       "      <td>1</td>\n",
       "      <td>March 25, 2002 12:06AM</td>\n",
       "      <td>\\nI am debating a new purchase and these two a...</td>\n",
       "    </tr>\n",
       "    <tr>\n",
       "      <th>2</th>\n",
       "      <td>2</td>\n",
       "      <td>March 25, 2002 10:02AM</td>\n",
       "      <td>\\nGreat handling, RWD, excellent engine and th...</td>\n",
       "    </tr>\n",
       "    <tr>\n",
       "      <th>3</th>\n",
       "      <td>3</td>\n",
       "      <td>March 25, 2002 4:04PM</td>\n",
       "      <td>\\nAnd no manual tranny. That may not matter to...</td>\n",
       "    </tr>\n",
       "    <tr>\n",
       "      <th>4</th>\n",
       "      <td>4</td>\n",
       "      <td>March 25, 2002 5:44PM</td>\n",
       "      <td>\\nOne beauty of BMW 3 Series is that there are...</td>\n",
       "    </tr>\n",
       "  </tbody>\n",
       "</table>\n",
       "</div>"
      ],
      "text/plain": [
       "   Username                    date  \\\n",
       "0         0  March 24, 2002 10:54PM   \n",
       "1         1  March 25, 2002 12:06AM   \n",
       "2         2  March 25, 2002 10:02AM   \n",
       "3         3   March 25, 2002 4:04PM   \n",
       "4         4   March 25, 2002 5:44PM   \n",
       "\n",
       "                                                text  \n",
       "0  \\nI personally think that with a few tweaks th...  \n",
       "1  \\nI am debating a new purchase and these two a...  \n",
       "2  \\nGreat handling, RWD, excellent engine and th...  \n",
       "3  \\nAnd no manual tranny. That may not matter to...  \n",
       "4  \\nOne beauty of BMW 3 Series is that there are...  "
      ]
     },
     "execution_count": 29,
     "metadata": {},
     "output_type": "execute_result"
    }
   ],
   "source": [
    "data2.head()"
   ]
  },
  {
   "cell_type": "code",
   "execution_count": 30,
   "metadata": {},
   "outputs": [],
   "source": [
    "def build_corpus(text_col):\n",
    "    \"\"\"To build a text corpus by stitching all the records together.Input the text column\"\"\"\n",
    "    corpus = \"\"\n",
    "    for sent in text_col:\n",
    "        corpus += sent\n",
    "    return corpus"
   ]
  },
  {
   "cell_type": "code",
   "execution_count": 31,
   "metadata": {},
   "outputs": [],
   "source": [
    "#Building the corpus\n",
    "corpus = build_corpus(data2['text'])"
   ]
  },
  {
   "cell_type": "code",
   "execution_count": 32,
   "metadata": {},
   "outputs": [],
   "source": [
    "#Converting all the words into lowercase\n",
    "corpus = corpus.lower()"
   ]
  },
  {
   "cell_type": "code",
   "execution_count": 33,
   "metadata": {},
   "outputs": [],
   "source": [
    "#Splitting the entire corpus\n",
    "corpus = corpus.split()"
   ]
  },
  {
   "cell_type": "code",
   "execution_count": 34,
   "metadata": {},
   "outputs": [],
   "source": [
    "def plot_word_frequency(words,top_n=10):\n",
    "    \"\"\"Function to plot the word frequencies\"\"\"\n",
    "    word_freq = FreqDist(words)\n",
    "    labels = [element[0] for element in word_freq.most_common(top_n)]\n",
    "    counts = [element[1] for element in word_freq.most_common(top_n)]\n",
    "    plt.figure(figsize=(15,5))\n",
    "    plt.title(\"Most Frequent Words in the Corpus - Including STOPWORDS\")\n",
    "    plt.ylabel(\"Count\")\n",
    "    plt.xlabel(\"Word\")\n",
    "    plt.xticks(rotation=90)\n",
    "    plot = sns.barplot(labels,counts)\n",
    "    return plot"
   ]
  },
  {
   "cell_type": "code",
   "execution_count": 35,
   "metadata": {},
   "outputs": [
    {
     "data": {
      "text/plain": [
       "<AxesSubplot:title={'center':'Most Frequent Words in the Corpus - Including STOPWORDS'}, xlabel='Word', ylabel='Count'>"
      ]
     },
     "execution_count": 35,
     "metadata": {},
     "output_type": "execute_result"
    },
    {
     "data": {
      "image/png": "[encoded data removed]",
      "text/plain": [
       "<Figure size 1080x360 with 1 Axes>"
      ]
     },
     "metadata": {
      "needs_background": "light"
     },
     "output_type": "display_data"
    }
   ],
   "source": [
    "plot_word_frequency(corpus,100)"
   ]
  },
  {
   "cell_type": "code",
   "execution_count": 36,
   "metadata": {},
   "outputs": [],
   "source": [
    "### Answer 2"
   ]
  },
  {
   "cell_type": "code",
   "execution_count": 37,
   "metadata": {},
   "outputs": [
    {
     "data": {
      "text/plain": [
       "Index(['toyota', 'chevrolet', 'honda', 'hyundai', 'mazda', 'suzuki', 'ford',\n",
       "       'bmw', 'subaru', 'pontiac'],\n",
       "      dtype='object')"
      ]
     },
     "execution_count": 37,
     "metadata": {},
     "output_type": "execute_result"
    }
   ],
   "source": [
    "top_10_barnds = data1.Brand.value_counts().index[:10]\n",
    "top_10_barnds"
   ]
  },
  {
   "cell_type": "code",
   "execution_count": 38,
   "metadata": {},
   "outputs": [],
   "source": [
    "## Count dictionary\n",
    "brand_model_dict = {}\n",
    "for model, brand in zip(data1.Model.values,data1.Brand.values):\n",
    "    model = model.lower()\n",
    "    brand_model_dict[model]=brand"
   ]
  },
  {
   "cell_type": "code",
   "execution_count": 39,
   "metadata": {},
   "outputs": [],
   "source": [
    "text_data = data2.text.values"
   ]
  },
  {
   "cell_type": "code",
   "execution_count": 40,
   "metadata": {},
   "outputs": [],
   "source": [
    "## Replacing the model with brand name\n",
    "for i in range(len(text_data)):\n",
    "    temp_data = text_data[i].lower()\n",
    "    for key in brand_model_dict:\n",
    "        if key in temp_data:\n",
    "            temp_data = temp_data.replace(key,brand_model_dict[key])\n",
    "    text_data[i] = temp_data\n"
   ]
  },
  {
   "cell_type": "code",
   "execution_count": 41,
   "metadata": {},
   "outputs": [],
   "source": [
    "data2['text_updated'] = text_data"
   ]
  },
  {
   "cell_type": "code",
   "execution_count": 42,
   "metadata": {},
   "outputs": [
    {
     "data": {
      "text/html": [
       "<div>\n",
       "<style scoped>\n",
       "    .dataframe tbody tr th:only-of-type {\n",
       "        vertical-align: middle;\n",
       "    }\n",
       "\n",
       "    .dataframe tbody tr th {\n",
       "        vertical-align: top;\n",
       "    }\n",
       "\n",
       "    .dataframe thead th {\n",
       "        text-align: right;\n",
       "    }\n",
       "</style>\n",
       "<table border=\"1\" class=\"dataframe\">\n",
       "  <thead>\n",
       "    <tr style=\"text-align: right;\">\n",
       "      <th></th>\n",
       "      <th>Username</th>\n",
       "      <th>date</th>\n",
       "      <th>text</th>\n",
       "      <th>text_updated</th>\n",
       "    </tr>\n",
       "  </thead>\n",
       "  <tbody>\n",
       "    <tr>\n",
       "      <th>0</th>\n",
       "      <td>0</td>\n",
       "      <td>March 24, 2002 10:54PM</td>\n",
       "      <td>\\ni personally think that with a few tweaks th...</td>\n",
       "      <td>\\ni personally think that with a few tweaks th...</td>\n",
       "    </tr>\n",
       "    <tr>\n",
       "      <th>1</th>\n",
       "      <td>1</td>\n",
       "      <td>March 25, 2002 12:06AM</td>\n",
       "      <td>\\ni am debating a new purchase and these two a...</td>\n",
       "      <td>\\ni am debating a new purchase and these two a...</td>\n",
       "    </tr>\n",
       "    <tr>\n",
       "      <th>2</th>\n",
       "      <td>2</td>\n",
       "      <td>March 25, 2002 10:02AM</td>\n",
       "      <td>\\ngreat handling, rwd, excellent engine and th...</td>\n",
       "      <td>\\ngreat handling, rwd, excellent engine and th...</td>\n",
       "    </tr>\n",
       "    <tr>\n",
       "      <th>3</th>\n",
       "      <td>3</td>\n",
       "      <td>March 25, 2002 4:04PM</td>\n",
       "      <td>\\nand no manual tranny. that may not matter to...</td>\n",
       "      <td>\\nand no manual tranny. that may not matter to...</td>\n",
       "    </tr>\n",
       "    <tr>\n",
       "      <th>4</th>\n",
       "      <td>4</td>\n",
       "      <td>March 25, 2002 5:44PM</td>\n",
       "      <td>\\none beauty of bmw 3 series is that there are...</td>\n",
       "      <td>\\none beauty of bmw 3 series is that there are...</td>\n",
       "    </tr>\n",
       "  </tbody>\n",
       "</table>\n",
       "</div>"
      ],
      "text/plain": [
       "   Username                    date  \\\n",
       "0         0  March 24, 2002 10:54PM   \n",
       "1         1  March 25, 2002 12:06AM   \n",
       "2         2  March 25, 2002 10:02AM   \n",
       "3         3   March 25, 2002 4:04PM   \n",
       "4         4   March 25, 2002 5:44PM   \n",
       "\n",
       "                                                text  \\\n",
       "0  \\ni personally think that with a few tweaks th...   \n",
       "1  \\ni am debating a new purchase and these two a...   \n",
       "2  \\ngreat handling, rwd, excellent engine and th...   \n",
       "3  \\nand no manual tranny. that may not matter to...   \n",
       "4  \\none beauty of bmw 3 series is that there are...   \n",
       "\n",
       "                                        text_updated  \n",
       "0  \\ni personally think that with a few tweaks th...  \n",
       "1  \\ni am debating a new purchase and these two a...  \n",
       "2  \\ngreat handling, rwd, excellent engine and th...  \n",
       "3  \\nand no manual tranny. that may not matter to...  \n",
       "4  \\none beauty of bmw 3 series is that there are...  "
      ]
     },
     "execution_count": 42,
     "metadata": {},
     "output_type": "execute_result"
    }
   ],
   "source": [
    "data2.head()"
   ]
  },
  {
   "cell_type": "code",
   "execution_count": 43,
   "metadata": {},
   "outputs": [],
   "source": [
    "### 3 part"
   ]
  },
  {
   "cell_type": "code",
   "execution_count": 44,
   "metadata": {},
   "outputs": [],
   "source": [
    "## Calculating the lift ratio for top 10 brand without repeating\n",
    "lift_dict= pd.DataFrame(index=top_10_barnds, columns=top_10_barnds)\n",
    "total_shape = data2.shape[0]\n",
    "for i in range(len(top_10_barnds)):\n",
    "    for j in range(len(top_10_barnds)):\n",
    "        brand_1 = top_10_barnds[i]\n",
    "        brand_2 = top_10_barnds[j]\n",
    "        count_1 = 0\n",
    "        count_2 = 0\n",
    "        count_3 = 0\n",
    "        \n",
    "        for txt in data2.text_updated.values:\n",
    "            if brand_1 in txt and brand_2 in txt:\n",
    "                count_3 = count_3 + 1\n",
    "            elif brand_1 in txt and brand_2 not in txt:\n",
    "                count_1 = count_1 + 1 \n",
    "            elif brand_1 not in txt and brand_2 in txt:\n",
    "                count_2 = count_2 + 1\n",
    "        \n",
    "        if(brand_1==brand_2):\n",
    "            lift_dict[brand_1][brand_2] = 0\n",
    "\n",
    "        else:\n",
    "            pa = count_1/total_shape\n",
    "            pb = count_2/total_shape\n",
    "            pab = count_3/total_shape\n",
    "            ans = (pa*pb)/pab\n",
    "            \n",
    "            lift_dict[brand_1][brand_2] = round(1/ans,3)"
   ]
  },
  {
   "cell_type": "code",
   "execution_count": 45,
   "metadata": {},
   "outputs": [
    {
     "data": {
      "text/html": [
       "<div>\n",
       "<style scoped>\n",
       "    .dataframe tbody tr th:only-of-type {\n",
       "        vertical-align: middle;\n",
       "    }\n",
       "\n",
       "    .dataframe tbody tr th {\n",
       "        vertical-align: top;\n",
       "    }\n",
       "\n",
       "    .dataframe thead th {\n",
       "        text-align: right;\n",
       "    }\n",
       "</style>\n",
       "<table border=\"1\" class=\"dataframe\">\n",
       "  <thead>\n",
       "    <tr style=\"text-align: right;\">\n",
       "      <th></th>\n",
       "      <th>toyota</th>\n",
       "      <th>chevrolet</th>\n",
       "      <th>honda</th>\n",
       "      <th>hyundai</th>\n",
       "      <th>mazda</th>\n",
       "      <th>suzuki</th>\n",
       "      <th>ford</th>\n",
       "      <th>bmw</th>\n",
       "      <th>subaru</th>\n",
       "      <th>pontiac</th>\n",
       "    </tr>\n",
       "  </thead>\n",
       "  <tbody>\n",
       "    <tr>\n",
       "      <th>toyota</th>\n",
       "      <td>0</td>\n",
       "      <td>3.45</td>\n",
       "      <td>4.491</td>\n",
       "      <td>3.234</td>\n",
       "      <td>3.673</td>\n",
       "      <td>4.129</td>\n",
       "      <td>2.925</td>\n",
       "      <td>3.935</td>\n",
       "      <td>2.301</td>\n",
       "      <td>2.595</td>\n",
       "    </tr>\n",
       "    <tr>\n",
       "      <th>chevrolet</th>\n",
       "      <td>3.45</td>\n",
       "      <td>0</td>\n",
       "      <td>2.287</td>\n",
       "      <td>3.606</td>\n",
       "      <td>2.709</td>\n",
       "      <td>9.693</td>\n",
       "      <td>3.772</td>\n",
       "      <td>2.39</td>\n",
       "      <td>2.019</td>\n",
       "      <td>2.069</td>\n",
       "    </tr>\n",
       "    <tr>\n",
       "      <th>honda</th>\n",
       "      <td>4.491</td>\n",
       "      <td>2.287</td>\n",
       "      <td>0</td>\n",
       "      <td>2.866</td>\n",
       "      <td>3.765</td>\n",
       "      <td>4.306</td>\n",
       "      <td>2.896</td>\n",
       "      <td>2.816</td>\n",
       "      <td>2.206</td>\n",
       "      <td>2.255</td>\n",
       "    </tr>\n",
       "    <tr>\n",
       "      <th>hyundai</th>\n",
       "      <td>3.234</td>\n",
       "      <td>3.606</td>\n",
       "      <td>2.866</td>\n",
       "      <td>0</td>\n",
       "      <td>3.75</td>\n",
       "      <td>9.554</td>\n",
       "      <td>4.372</td>\n",
       "      <td>2.418</td>\n",
       "      <td>2.502</td>\n",
       "      <td>1.096</td>\n",
       "    </tr>\n",
       "    <tr>\n",
       "      <th>mazda</th>\n",
       "      <td>3.673</td>\n",
       "      <td>2.709</td>\n",
       "      <td>3.765</td>\n",
       "      <td>3.75</td>\n",
       "      <td>0</td>\n",
       "      <td>9.474</td>\n",
       "      <td>3.967</td>\n",
       "      <td>2.618</td>\n",
       "      <td>8.312</td>\n",
       "      <td>1.446</td>\n",
       "    </tr>\n",
       "    <tr>\n",
       "      <th>suzuki</th>\n",
       "      <td>4.129</td>\n",
       "      <td>9.693</td>\n",
       "      <td>4.306</td>\n",
       "      <td>9.554</td>\n",
       "      <td>9.474</td>\n",
       "      <td>0</td>\n",
       "      <td>5.038</td>\n",
       "      <td>3.175</td>\n",
       "      <td>7.504</td>\n",
       "      <td>4.074</td>\n",
       "    </tr>\n",
       "    <tr>\n",
       "      <th>ford</th>\n",
       "      <td>2.925</td>\n",
       "      <td>3.772</td>\n",
       "      <td>2.896</td>\n",
       "      <td>4.372</td>\n",
       "      <td>3.967</td>\n",
       "      <td>5.038</td>\n",
       "      <td>0</td>\n",
       "      <td>3.161</td>\n",
       "      <td>2.169</td>\n",
       "      <td>1.618</td>\n",
       "    </tr>\n",
       "    <tr>\n",
       "      <th>bmw</th>\n",
       "      <td>3.935</td>\n",
       "      <td>2.39</td>\n",
       "      <td>2.816</td>\n",
       "      <td>2.418</td>\n",
       "      <td>2.618</td>\n",
       "      <td>3.175</td>\n",
       "      <td>3.161</td>\n",
       "      <td>0</td>\n",
       "      <td>2.061</td>\n",
       "      <td>3.379</td>\n",
       "    </tr>\n",
       "    <tr>\n",
       "      <th>subaru</th>\n",
       "      <td>2.301</td>\n",
       "      <td>2.019</td>\n",
       "      <td>2.206</td>\n",
       "      <td>2.502</td>\n",
       "      <td>8.312</td>\n",
       "      <td>7.504</td>\n",
       "      <td>2.169</td>\n",
       "      <td>2.061</td>\n",
       "      <td>0</td>\n",
       "      <td>2.029</td>\n",
       "    </tr>\n",
       "    <tr>\n",
       "      <th>pontiac</th>\n",
       "      <td>2.595</td>\n",
       "      <td>2.069</td>\n",
       "      <td>2.255</td>\n",
       "      <td>1.096</td>\n",
       "      <td>1.446</td>\n",
       "      <td>4.074</td>\n",
       "      <td>1.618</td>\n",
       "      <td>3.379</td>\n",
       "      <td>2.029</td>\n",
       "      <td>0</td>\n",
       "    </tr>\n",
       "  </tbody>\n",
       "</table>\n",
       "</div>"
      ],
      "text/plain": [
       "          toyota chevrolet  honda hyundai  mazda suzuki   ford    bmw subaru  \\\n",
       "toyota         0      3.45  4.491   3.234  3.673  4.129  2.925  3.935  2.301   \n",
       "chevrolet   3.45         0  2.287   3.606  2.709  9.693  3.772   2.39  2.019   \n",
       "honda      4.491     2.287      0   2.866  3.765  4.306  2.896  2.816  2.206   \n",
       "hyundai    3.234     3.606  2.866       0   3.75  9.554  4.372  2.418  2.502   \n",
       "mazda      3.673     2.709  3.765    3.75      0  9.474  3.967  2.618  8.312   \n",
       "suzuki     4.129     9.693  4.306   9.554  9.474      0  5.038  3.175  7.504   \n",
       "ford       2.925     3.772  2.896   4.372  3.967  5.038      0  3.161  2.169   \n",
       "bmw        3.935      2.39  2.816   2.418  2.618  3.175  3.161      0  2.061   \n",
       "subaru     2.301     2.019  2.206   2.502  8.312  7.504  2.169  2.061      0   \n",
       "pontiac    2.595     2.069  2.255   1.096  1.446  4.074  1.618  3.379  2.029   \n",
       "\n",
       "          pontiac  \n",
       "toyota      2.595  \n",
       "chevrolet   2.069  \n",
       "honda       2.255  \n",
       "hyundai     1.096  \n",
       "mazda       1.446  \n",
       "suzuki      4.074  \n",
       "ford        1.618  \n",
       "bmw         3.379  \n",
       "subaru      2.029  \n",
       "pontiac         0  "
      ]
     },
     "execution_count": 45,
     "metadata": {},
     "output_type": "execute_result"
    }
   ],
   "source": [
    "lift_dict"
   ]
  },
  {
   "cell_type": "code",
   "execution_count": 46,
   "metadata": {},
   "outputs": [
    {
     "data": {
      "text/plain": [
       "array([[ 1.47483247,  2.63033847],\n",
       "       [-0.43148467, -6.02821891],\n",
       "       [ 1.11748518, -1.47844718],\n",
       "       [-3.10554003, -5.04889235],\n",
       "       [-8.31541868, -0.64805323],\n",
       "       [ 5.09362667, 12.55328419],\n",
       "       [ 3.12745724,  0.30709139],\n",
       "       [-1.9850062 ,  2.43638059],\n",
       "       [ 5.08003797, -4.12623981],\n",
       "       [-2.05598997, -0.59724315]])"
      ]
     },
     "execution_count": 46,
     "metadata": {},
     "output_type": "execute_result"
    }
   ],
   "source": [
    "mdslifts = lift_dict\n",
    "mdslifts.reset_index(drop=True, inplace=True)\n",
    "mds = MDS(random_state=0)\n",
    "mdslifts = mds.fit_transform(mdslifts)\n",
    "mdslifts"
   ]
  },
  {
   "cell_type": "code",
   "execution_count": 47,
   "metadata": {},
   "outputs": [
    {
     "data": {
      "image/png": "[encoded data removed]",
      "text/plain": [
       "<Figure size 720x288 with 1 Axes>"
      ]
     },
     "metadata": {
      "needs_background": "light"
     },
     "output_type": "display_data"
    }
   ],
   "source": [
    "colors = ['#41FB29', '#3C83E2', '#C41965', '#E56FC1', '#0F817B', '#60446F', '#E45A2B', '#D4E24F', '#F2CF2B', '#04AFD4']\n",
    "brands = ['toyota', 'chevrolet', 'honda', 'hyundai', 'mazda', 'suzuki', 'ford', 'bmw', 'subaru', 'pontiac']\n",
    "#          toyota     chevrolet   honda     hyundai    mazda      suzuki      ford      bmw        subaru     pontiac\n",
    "size = [64, 64, 64, 64, 64, 64, 64, 64, 64, 64] ##41FB29\n",
    "fig = plt.figure(2, (10,4))\n",
    "plt.scatter(mdslifts[:,0], mdslifts[:,1], s=size, c=colors)\n",
    "count = 0\n",
    "for x, y in zip(mdslifts[:,0], mdslifts[:,1]):\n",
    "    label = \"{0}\".format(brands[count])\n",
    "    count += 1\n",
    "    plt.annotate(label, # this is the text\n",
    "                 (x,y), # these are the coordinates to position the label\n",
    "                 textcoords=\"offset points\", # how to position the text\n",
    "                 xytext=(0,10), # distance from text to points (x,y)\n",
    "                 ha=('center') # horizontal alignment\n",
    "    )\n",
    "plt.title('mds')\n",
    "plt.show()"
   ]
  },
  {
   "cell_type": "code",
   "execution_count": 50,
   "metadata": {},
   "outputs": [],
   "source": [
    "# attribute lifts\n",
    "attr = ['performance', 'luxury', 'expensive', 'safety', 'smooth'] \n",
    "attr_lifts= pd.DataFrame(index=attr, columns=top_10_barnds)\n",
    "total_shape = data2.shape[0]\n",
    "for i in range(len(top_10_barnds)):\n",
    "    for j in range(len(attr)):\n",
    "        brand_1 = top_10_barnds[i]\n",
    "        brand_2 = attr[j]\n",
    "        count_1 = 0\n",
    "        count_2 = 0\n",
    "        count_3 = 0\n",
    "        \n",
    "        for txt in data2.text_updated.values:\n",
    "            if brand_1 in txt and brand_2 in txt:\n",
    "                count_3 = count_3 + 1\n",
    "            elif brand_1 in txt and brand_2 not in txt:\n",
    "                count_1 = count_1 + 1 \n",
    "            elif brand_1 not in txt and brand_2 in txt:\n",
    "                count_2 = count_2 + 1\n",
    "        \n",
    "        if(brand_1==brand_2):\n",
    "            ans=0\n",
    "\n",
    "        pa = count_1/total_shape\n",
    "        pb = count_2/total_shape\n",
    "        pab = count_3/total_shape\n",
    "        ans = (pa*pb)/pab\n",
    "        \n",
    "        attr_lifts[brand_1][brand_2] = round(ans,3)"
   ]
  },
  {
   "cell_type": "code",
   "execution_count": 51,
   "metadata": {},
   "outputs": [
    {
     "data": {
      "text/html": [
       "<div>\n",
       "<style scoped>\n",
       "    .dataframe tbody tr th:only-of-type {\n",
       "        vertical-align: middle;\n",
       "    }\n",
       "\n",
       "    .dataframe tbody tr th {\n",
       "        vertical-align: top;\n",
       "    }\n",
       "\n",
       "    .dataframe thead th {\n",
       "        text-align: right;\n",
       "    }\n",
       "</style>\n",
       "<table border=\"1\" class=\"dataframe\">\n",
       "  <thead>\n",
       "    <tr style=\"text-align: right;\">\n",
       "      <th></th>\n",
       "      <th>toyota</th>\n",
       "      <th>chevrolet</th>\n",
       "      <th>honda</th>\n",
       "      <th>hyundai</th>\n",
       "      <th>mazda</th>\n",
       "      <th>suzuki</th>\n",
       "      <th>ford</th>\n",
       "      <th>bmw</th>\n",
       "      <th>subaru</th>\n",
       "      <th>pontiac</th>\n",
       "    </tr>\n",
       "  </thead>\n",
       "  <tbody>\n",
       "    <tr>\n",
       "      <th>performance</th>\n",
       "      <td>0.309</td>\n",
       "      <td>0.455</td>\n",
       "      <td>0.405</td>\n",
       "      <td>0.752</td>\n",
       "      <td>0.346</td>\n",
       "      <td>1.534</td>\n",
       "      <td>0.393</td>\n",
       "      <td>0.272</td>\n",
       "      <td>0.416</td>\n",
       "      <td>0.4</td>\n",
       "    </tr>\n",
       "    <tr>\n",
       "      <th>luxury</th>\n",
       "      <td>0.277</td>\n",
       "      <td>0.631</td>\n",
       "      <td>0.346</td>\n",
       "      <td>0.272</td>\n",
       "      <td>0.25</td>\n",
       "      <td>0.706</td>\n",
       "      <td>0.327</td>\n",
       "      <td>0.302</td>\n",
       "      <td>0.278</td>\n",
       "      <td>0.488</td>\n",
       "    </tr>\n",
       "    <tr>\n",
       "      <th>expensive</th>\n",
       "      <td>0.359</td>\n",
       "      <td>0.965</td>\n",
       "      <td>0.541</td>\n",
       "      <td>0.439</td>\n",
       "      <td>0.936</td>\n",
       "      <td>0.593</td>\n",
       "      <td>0.579</td>\n",
       "      <td>0.279</td>\n",
       "      <td>1.07</td>\n",
       "      <td>0.492</td>\n",
       "    </tr>\n",
       "    <tr>\n",
       "      <th>safety</th>\n",
       "      <td>0.261</td>\n",
       "      <td>0.206</td>\n",
       "      <td>0.381</td>\n",
       "      <td>0.439</td>\n",
       "      <td>0.525</td>\n",
       "      <td>0.626</td>\n",
       "      <td>0.286</td>\n",
       "      <td>0.656</td>\n",
       "      <td>1.02</td>\n",
       "      <td>0.843</td>\n",
       "    </tr>\n",
       "    <tr>\n",
       "      <th>smooth</th>\n",
       "      <td>0.218</td>\n",
       "      <td>0.698</td>\n",
       "      <td>0.375</td>\n",
       "      <td>0.789</td>\n",
       "      <td>0.378</td>\n",
       "      <td>0.726</td>\n",
       "      <td>0.619</td>\n",
       "      <td>0.224</td>\n",
       "      <td>0.339</td>\n",
       "      <td>0.337</td>\n",
       "    </tr>\n",
       "  </tbody>\n",
       "</table>\n",
       "</div>"
      ],
      "text/plain": [
       "            toyota chevrolet  honda hyundai  mazda suzuki   ford    bmw  \\\n",
       "performance  0.309     0.455  0.405   0.752  0.346  1.534  0.393  0.272   \n",
       "luxury       0.277     0.631  0.346   0.272   0.25  0.706  0.327  0.302   \n",
       "expensive    0.359     0.965  0.541   0.439  0.936  0.593  0.579  0.279   \n",
       "safety       0.261     0.206  0.381   0.439  0.525  0.626  0.286  0.656   \n",
       "smooth       0.218     0.698  0.375   0.789  0.378  0.726  0.619  0.224   \n",
       "\n",
       "            subaru pontiac  \n",
       "performance  0.416     0.4  \n",
       "luxury       0.278   0.488  \n",
       "expensive     1.07   0.492  \n",
       "safety        1.02   0.843  \n",
       "smooth       0.339   0.337  "
      ]
     },
     "execution_count": 51,
     "metadata": {},
     "output_type": "execute_result"
    }
   ],
   "source": [
    "attr_lifts"
   ]
  }
 ],
 "metadata": {
  "kernelspec": {
   "display_name": "Python 3.9.12 ('base')",
   "language": "python",
   "name": "python3"
  },
  "language_info": {
   "codemirror_mode": {
    "name": "ipython",
    "version": 3
   },
   "file_extension": ".py",
   "mimetype": "text/x-python",
   "name": "python",
   "nbconvert_exporter": "python",
   "pygments_lexer": "ipython3",
   "version": "3.9.12"
  },
  "vscode": {
   "interpreter": {
    "hash": "a2f36d4f0fab32c067f747ee04c69255073dcd12dd897c9c524bc34636b9f1b8"
   }
  }
 },
 "nbformat": 4,
 "nbformat_minor": 2
}
