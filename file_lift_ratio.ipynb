{
 "cells": [
  {
   "cell_type": "code",
   "execution_count": 94,
   "metadata": {},
   "outputs": [],
   "source": [
    "import pandas as pd\n",
    "import numpy as np\n",
    "import pandas as pd\n",
    "import matplotlib.pyplot as plt\n",
    "import seaborn as sns\n",
    "from nltk import FreqDist\n",
    "from sklearn.manifold import MDS\n",
    "from matplotlib.offsetbox import OffsetImage, AnnotationBbox\n",
    "\n",
    "#To ignore warning messages\n",
    "import warnings\n",
    "warnings.filterwarnings('ignore')\n"
   ]
  },
  {
   "cell_type": "code",
   "execution_count": 95,
   "metadata": {},
   "outputs": [],
   "source": [
    "data1 = pd.read_csv('car models and brands (3).csv')\n",
    "data2 = pd.read_csv('edmunds_forum.csv')"
   ]
  },
  {
   "cell_type": "code",
   "execution_count": 96,
   "metadata": {},
   "outputs": [
    {
     "data": {
      "text/html": [
       "<div>\n",
       "<style scoped>\n",
       "    .dataframe tbody tr th:only-of-type {\n",
       "        vertical-align: middle;\n",
       "    }\n",
       "\n",
       "    .dataframe tbody tr th {\n",
       "        vertical-align: top;\n",
       "    }\n",
       "\n",
       "    .dataframe thead th {\n",
       "        text-align: right;\n",
       "    }\n",
       "</style>\n",
       "<table border=\"1\" class=\"dataframe\">\n",
       "  <thead>\n",
       "    <tr style=\"text-align: right;\">\n",
       "      <th></th>\n",
       "      <th>Brand</th>\n",
       "      <th>Model</th>\n",
       "    </tr>\n",
       "  </thead>\n",
       "  <tbody>\n",
       "    <tr>\n",
       "      <th>0</th>\n",
       "      <td>acura</td>\n",
       "      <td>integra</td>\n",
       "    </tr>\n",
       "    <tr>\n",
       "      <th>1</th>\n",
       "      <td>acura</td>\n",
       "      <td>legend</td>\n",
       "    </tr>\n",
       "    <tr>\n",
       "      <th>2</th>\n",
       "      <td>acura</td>\n",
       "      <td>vigor</td>\n",
       "    </tr>\n",
       "    <tr>\n",
       "      <th>3</th>\n",
       "      <td>acura</td>\n",
       "      <td>rlx</td>\n",
       "    </tr>\n",
       "    <tr>\n",
       "      <th>4</th>\n",
       "      <td>acura</td>\n",
       "      <td>ilx</td>\n",
       "    </tr>\n",
       "  </tbody>\n",
       "</table>\n",
       "</div>"
      ],
      "text/plain": [
       "   Brand    Model\n",
       "0  acura  integra\n",
       "1  acura   legend\n",
       "2  acura    vigor\n",
       "3  acura      rlx\n",
       "4  acura      ilx"
      ]
     },
     "execution_count": 96,
     "metadata": {},
     "output_type": "execute_result"
    }
   ],
   "source": [
    "data1.head()"
   ]
  },
  {
   "cell_type": "code",
   "execution_count": 97,
   "metadata": {},
   "outputs": [
    {
     "data": {
      "text/html": [
       "<div>\n",
       "<style scoped>\n",
       "    .dataframe tbody tr th:only-of-type {\n",
       "        vertical-align: middle;\n",
       "    }\n",
       "\n",
       "    .dataframe tbody tr th {\n",
       "        vertical-align: top;\n",
       "    }\n",
       "\n",
       "    .dataframe thead th {\n",
       "        text-align: right;\n",
       "    }\n",
       "</style>\n",
       "<table border=\"1\" class=\"dataframe\">\n",
       "  <thead>\n",
       "    <tr style=\"text-align: right;\">\n",
       "      <th></th>\n",
       "      <th>Unnamed: 0</th>\n",
       "      <th>Date</th>\n",
       "      <th>comments</th>\n",
       "    </tr>\n",
       "  </thead>\n",
       "  <tbody>\n",
       "    <tr>\n",
       "      <th>0</th>\n",
       "      <td>0</td>\n",
       "      <td>March 24, 2002 10:54PM</td>\n",
       "      <td>\\nI personally think that with a few tweaks th...</td>\n",
       "    </tr>\n",
       "    <tr>\n",
       "      <th>1</th>\n",
       "      <td>1</td>\n",
       "      <td>March 25, 2002 12:06AM</td>\n",
       "      <td>\\nI am debating a new purchase and these two a...</td>\n",
       "    </tr>\n",
       "    <tr>\n",
       "      <th>2</th>\n",
       "      <td>2</td>\n",
       "      <td>March 25, 2002 10:02AM</td>\n",
       "      <td>\\nGreat handling, RWD, excellent engine and th...</td>\n",
       "    </tr>\n",
       "    <tr>\n",
       "      <th>3</th>\n",
       "      <td>3</td>\n",
       "      <td>March 25, 2002 4:04PM</td>\n",
       "      <td>\\nAnd no manual tranny. That may not matter to...</td>\n",
       "    </tr>\n",
       "    <tr>\n",
       "      <th>4</th>\n",
       "      <td>4</td>\n",
       "      <td>March 25, 2002 5:44PM</td>\n",
       "      <td>\\nOne beauty of BMW 3 Series is that there are...</td>\n",
       "    </tr>\n",
       "  </tbody>\n",
       "</table>\n",
       "</div>"
      ],
      "text/plain": [
       "   Unnamed: 0                    Date  \\\n",
       "0           0  March 24, 2002 10:54PM   \n",
       "1           1  March 25, 2002 12:06AM   \n",
       "2           2  March 25, 2002 10:02AM   \n",
       "3           3   March 25, 2002 4:04PM   \n",
       "4           4   March 25, 2002 5:44PM   \n",
       "\n",
       "                                            comments  \n",
       "0  \\nI personally think that with a few tweaks th...  \n",
       "1  \\nI am debating a new purchase and these two a...  \n",
       "2  \\nGreat handling, RWD, excellent engine and th...  \n",
       "3  \\nAnd no manual tranny. That may not matter to...  \n",
       "4  \\nOne beauty of BMW 3 Series is that there are...  "
      ]
     },
     "execution_count": 97,
     "metadata": {},
     "output_type": "execute_result"
    }
   ],
   "source": [
    "data2.head()"
   ]
  },
  {
   "cell_type": "code",
   "execution_count": 98,
   "metadata": {},
   "outputs": [],
   "source": [
    "data2.columns = ['Username','date','text']"
   ]
  },
  {
   "cell_type": "code",
   "execution_count": 99,
   "metadata": {},
   "outputs": [
    {
     "data": {
      "text/html": [
       "<div>\n",
       "<style scoped>\n",
       "    .dataframe tbody tr th:only-of-type {\n",
       "        vertical-align: middle;\n",
       "    }\n",
       "\n",
       "    .dataframe tbody tr th {\n",
       "        vertical-align: top;\n",
       "    }\n",
       "\n",
       "    .dataframe thead th {\n",
       "        text-align: right;\n",
       "    }\n",
       "</style>\n",
       "<table border=\"1\" class=\"dataframe\">\n",
       "  <thead>\n",
       "    <tr style=\"text-align: right;\">\n",
       "      <th></th>\n",
       "      <th>Username</th>\n",
       "      <th>date</th>\n",
       "      <th>text</th>\n",
       "    </tr>\n",
       "  </thead>\n",
       "  <tbody>\n",
       "    <tr>\n",
       "      <th>0</th>\n",
       "      <td>0</td>\n",
       "      <td>March 24, 2002 10:54PM</td>\n",
       "      <td>\\nI personally think that with a few tweaks th...</td>\n",
       "    </tr>\n",
       "    <tr>\n",
       "      <th>1</th>\n",
       "      <td>1</td>\n",
       "      <td>March 25, 2002 12:06AM</td>\n",
       "      <td>\\nI am debating a new purchase and these two a...</td>\n",
       "    </tr>\n",
       "    <tr>\n",
       "      <th>2</th>\n",
       "      <td>2</td>\n",
       "      <td>March 25, 2002 10:02AM</td>\n",
       "      <td>\\nGreat handling, RWD, excellent engine and th...</td>\n",
       "    </tr>\n",
       "    <tr>\n",
       "      <th>3</th>\n",
       "      <td>3</td>\n",
       "      <td>March 25, 2002 4:04PM</td>\n",
       "      <td>\\nAnd no manual tranny. That may not matter to...</td>\n",
       "    </tr>\n",
       "    <tr>\n",
       "      <th>4</th>\n",
       "      <td>4</td>\n",
       "      <td>March 25, 2002 5:44PM</td>\n",
       "      <td>\\nOne beauty of BMW 3 Series is that there are...</td>\n",
       "    </tr>\n",
       "  </tbody>\n",
       "</table>\n",
       "</div>"
      ],
      "text/plain": [
       "   Username                    date  \\\n",
       "0         0  March 24, 2002 10:54PM   \n",
       "1         1  March 25, 2002 12:06AM   \n",
       "2         2  March 25, 2002 10:02AM   \n",
       "3         3   March 25, 2002 4:04PM   \n",
       "4         4   March 25, 2002 5:44PM   \n",
       "\n",
       "                                                text  \n",
       "0  \\nI personally think that with a few tweaks th...  \n",
       "1  \\nI am debating a new purchase and these two a...  \n",
       "2  \\nGreat handling, RWD, excellent engine and th...  \n",
       "3  \\nAnd no manual tranny. That may not matter to...  \n",
       "4  \\nOne beauty of BMW 3 Series is that there are...  "
      ]
     },
     "execution_count": 99,
     "metadata": {},
     "output_type": "execute_result"
    }
   ],
   "source": [
    "data2.head()"
   ]
  },
  {
   "cell_type": "code",
   "execution_count": 100,
   "metadata": {},
   "outputs": [],
   "source": [
    "def build_corpus(text_col):\n",
    "    \"\"\"To build a text corpus by stitching all the records together.Input the text column\"\"\"\n",
    "    corpus = \"\"\n",
    "    for sent in text_col:\n",
    "        corpus += sent\n",
    "    return corpus"
   ]
  },
  {
   "cell_type": "code",
   "execution_count": 101,
   "metadata": {},
   "outputs": [],
   "source": [
    "#Building the corpus\n",
    "corpus = build_corpus(data2['text'])"
   ]
  },
  {
   "cell_type": "code",
   "execution_count": 102,
   "metadata": {},
   "outputs": [],
   "source": [
    "#Converting all the words into lowercase\n",
    "corpus = corpus.lower()"
   ]
  },
  {
   "cell_type": "code",
   "execution_count": 103,
   "metadata": {},
   "outputs": [],
   "source": [
    "#Splitting the entire corpus\n",
    "corpus = corpus.split()"
   ]
  },
  {
   "cell_type": "code",
   "execution_count": 104,
   "metadata": {},
   "outputs": [],
   "source": [
    "def plot_word_frequency(words,top_n=10):\n",
    "    \"\"\"Function to plot the word frequencies\"\"\"\n",
    "    word_freq = FreqDist(words)\n",
    "    labels = [element[0] for element in word_freq.most_common(top_n)]\n",
    "    counts = [element[1] for element in word_freq.most_common(top_n)]\n",
    "    plt.figure(figsize=(15,5))\n",
    "    plt.title(\"Most Frequent Words in the Corpus - Including STOPWORDS\")\n",
    "    plt.ylabel(\"Count\")\n",
    "    plt.xlabel(\"Word\")\n",
    "    plt.xticks(rotation=90)\n",
    "    plot = sns.barplot(labels,counts)\n",
    "    return plot"
   ]
  },
  {
   "cell_type": "code",
   "execution_count": 105,
   "metadata": {},
   "outputs": [
    {
     "data": {
      "text/plain": [
       "<AxesSubplot:title={'center':'Most Frequent Words in the Corpus - Including STOPWORDS'}, xlabel='Word', ylabel='Count'>"
      ]
     },
     "execution_count": 105,
     "metadata": {},
     "output_type": "execute_result"
    },
    {
     "data": {
      "image/png": "[encoded data removed]",
      "text/plain": [
       "<Figure size 1080x360 with 1 Axes>"
      ]
     },
     "metadata": {
      "needs_background": "light"
     },
     "output_type": "display_data"
    }
   ],
   "source": [
    "plot_word_frequency(corpus,100)"
   ]
  },
  {
   "cell_type": "code",
   "execution_count": 106,
   "metadata": {},
   "outputs": [],
   "source": [
    "### Answer 2"
   ]
  },
  {
   "cell_type": "code",
   "execution_count": 107,
   "metadata": {},
   "outputs": [
    {
     "data": {
      "text/plain": [
       "Index(['toyota', 'chevrolet', 'honda', 'hyundai', 'mazda', 'suzuki', 'ford',\n",
       "       'bmw', 'subaru', 'pontiac'],\n",
       "      dtype='object')"
      ]
     },
     "execution_count": 107,
     "metadata": {},
     "output_type": "execute_result"
    }
   ],
   "source": [
    "top_10_barnds = data1.Brand.value_counts().index[:10]\n",
    "top_10_barnds"
   ]
  },
  {
   "cell_type": "code",
   "execution_count": 108,
   "metadata": {},
   "outputs": [],
   "source": [
    "## Count dictionary\n",
    "brand_model_dict = {}\n",
    "for model, brand in zip(data1.Model.values,data1.Brand.values):\n",
    "    model = model.lower()\n",
    "    brand_model_dict[model]=brand"
   ]
  },
  {
   "cell_type": "code",
   "execution_count": 109,
   "metadata": {},
   "outputs": [],
   "source": [
    "text_data = data2.text.values"
   ]
  },
  {
   "cell_type": "code",
   "execution_count": 110,
   "metadata": {},
   "outputs": [],
   "source": [
    "## Replacing the model with brand name\n",
    "for i in range(len(text_data)):\n",
    "    temp_data = text_data[i].lower()\n",
    "    for key in brand_model_dict:\n",
    "        if key in temp_data:\n",
    "            temp_data = temp_data.replace(key,brand_model_dict[key])\n",
    "    text_data[i] = temp_data\n"
   ]
  },
  {
   "cell_type": "code",
   "execution_count": 111,
   "metadata": {},
   "outputs": [],
   "source": [
    "data2['text_updated'] = text_data"
   ]
  },
  {
   "cell_type": "code",
   "execution_count": 112,
   "metadata": {},
   "outputs": [
    {
     "data": {
      "text/html": [
       "<div>\n",
       "<style scoped>\n",
       "    .dataframe tbody tr th:only-of-type {\n",
       "        vertical-align: middle;\n",
       "    }\n",
       "\n",
       "    .dataframe tbody tr th {\n",
       "        vertical-align: top;\n",
       "    }\n",
       "\n",
       "    .dataframe thead th {\n",
       "        text-align: right;\n",
       "    }\n",
       "</style>\n",
       "<table border=\"1\" class=\"dataframe\">\n",
       "  <thead>\n",
       "    <tr style=\"text-align: right;\">\n",
       "      <th></th>\n",
       "      <th>Username</th>\n",
       "      <th>date</th>\n",
       "      <th>text</th>\n",
       "      <th>text_updated</th>\n",
       "    </tr>\n",
       "  </thead>\n",
       "  <tbody>\n",
       "    <tr>\n",
       "      <th>0</th>\n",
       "      <td>0</td>\n",
       "      <td>March 24, 2002 10:54PM</td>\n",
       "      <td>\\ni personally think that with a few tweaks th...</td>\n",
       "      <td>\\ni personally think that with a few tweaks th...</td>\n",
       "    </tr>\n",
       "    <tr>\n",
       "      <th>1</th>\n",
       "      <td>1</td>\n",
       "      <td>March 25, 2002 12:06AM</td>\n",
       "      <td>\\ni am debating a new purchase and these two a...</td>\n",
       "      <td>\\ni am debating a new purchase and these two a...</td>\n",
       "    </tr>\n",
       "    <tr>\n",
       "      <th>2</th>\n",
       "      <td>2</td>\n",
       "      <td>March 25, 2002 10:02AM</td>\n",
       "      <td>\\ngreat handling, rwd, excellent engine and th...</td>\n",
       "      <td>\\ngreat handling, rwd, excellent engine and th...</td>\n",
       "    </tr>\n",
       "    <tr>\n",
       "      <th>3</th>\n",
       "      <td>3</td>\n",
       "      <td>March 25, 2002 4:04PM</td>\n",
       "      <td>\\nand no manual tranny. that may not matter to...</td>\n",
       "      <td>\\nand no manual tranny. that may not matter to...</td>\n",
       "    </tr>\n",
       "    <tr>\n",
       "      <th>4</th>\n",
       "      <td>4</td>\n",
       "      <td>March 25, 2002 5:44PM</td>\n",
       "      <td>\\none beauty of bmw 3 series is that there are...</td>\n",
       "      <td>\\none beauty of bmw 3 series is that there are...</td>\n",
       "    </tr>\n",
       "  </tbody>\n",
       "</table>\n",
       "</div>"
      ],
      "text/plain": [
       "   Username                    date  \\\n",
       "0         0  March 24, 2002 10:54PM   \n",
       "1         1  March 25, 2002 12:06AM   \n",
       "2         2  March 25, 2002 10:02AM   \n",
       "3         3   March 25, 2002 4:04PM   \n",
       "4         4   March 25, 2002 5:44PM   \n",
       "\n",
       "                                                text  \\\n",
       "0  \\ni personally think that with a few tweaks th...   \n",
       "1  \\ni am debating a new purchase and these two a...   \n",
       "2  \\ngreat handling, rwd, excellent engine and th...   \n",
       "3  \\nand no manual tranny. that may not matter to...   \n",
       "4  \\none beauty of bmw 3 series is that there are...   \n",
       "\n",
       "                                        text_updated  \n",
       "0  \\ni personally think that with a few tweaks th...  \n",
       "1  \\ni am debating a new purchase and these two a...  \n",
       "2  \\ngreat handling, rwd, excellent engine and th...  \n",
       "3  \\nand no manual tranny. that may not matter to...  \n",
       "4  \\none beauty of bmw 3 series is that there are...  "
      ]
     },
     "execution_count": 112,
     "metadata": {},
     "output_type": "execute_result"
    }
   ],
   "source": [
    "data2.head()"
   ]
  },
  {
   "cell_type": "code",
   "execution_count": 113,
   "metadata": {},
   "outputs": [],
   "source": [
    "### 3 part"
   ]
  },
  {
   "cell_type": "code",
   "execution_count": 120,
   "metadata": {},
   "outputs": [],
   "source": [
    "## Calculating the lift ratio for top 10 brand without repeating\n",
    "lift_dict= pd.DataFrame(index=top_10_barnds, columns=top_10_barnds)\n",
    "total_shape = data2.shape[0]\n",
    "for i in range(len(top_10_barnds)):\n",
    "    for j in range(len(top_10_barnds)):\n",
    "        brand_1 = top_10_barnds[i]\n",
    "        brand_2 = top_10_barnds[j]\n",
    "        count_1 = 0\n",
    "        count_2 = 0\n",
    "        count_3 = 0\n",
    "        \n",
    "        for txt in data2.text_updated.values:\n",
    "            if brand_1 in txt and brand_2 in txt:\n",
    "                count_3 = count_3 + 1\n",
    "            elif brand_1 in txt and brand_2 not in txt:\n",
    "                count_1 = count_1 + 1 \n",
    "            elif brand_1 not in txt and brand_2 in txt:\n",
    "                count_2 = count_2 + 1\n",
    "        \n",
    "        if(brand_1==brand_2):\n",
    "            lift_dict[brand_1][brand_2] = np.nan\n",
    "\n",
    "        else:\n",
    "            pa = count_1/total_shape\n",
    "            pb = count_2/total_shape\n",
    "            pab = count_3/total_shape\n",
    "            ans = (pa*pb)/pab\n",
    "            \n",
    "            lift_dict[brand_1][brand_2] = round(1/ans,3)"
   ]
  },
  {
   "cell_type": "code",
   "execution_count": 121,
   "metadata": {},
   "outputs": [
    {
     "data": {
      "text/html": [
       "<div>\n",
       "<style scoped>\n",
       "    .dataframe tbody tr th:only-of-type {\n",
       "        vertical-align: middle;\n",
       "    }\n",
       "\n",
       "    .dataframe tbody tr th {\n",
       "        vertical-align: top;\n",
       "    }\n",
       "\n",
       "    .dataframe thead th {\n",
       "        text-align: right;\n",
       "    }\n",
       "</style>\n",
       "<table border=\"1\" class=\"dataframe\">\n",
       "  <thead>\n",
       "    <tr style=\"text-align: right;\">\n",
       "      <th></th>\n",
       "      <th>toyota</th>\n",
       "      <th>chevrolet</th>\n",
       "      <th>honda</th>\n",
       "      <th>hyundai</th>\n",
       "      <th>mazda</th>\n",
       "      <th>suzuki</th>\n",
       "      <th>ford</th>\n",
       "      <th>bmw</th>\n",
       "      <th>subaru</th>\n",
       "      <th>pontiac</th>\n",
       "    </tr>\n",
       "  </thead>\n",
       "  <tbody>\n",
       "    <tr>\n",
       "      <th>toyota</th>\n",
       "      <td>NaN</td>\n",
       "      <td>3.45</td>\n",
       "      <td>4.491</td>\n",
       "      <td>3.234</td>\n",
       "      <td>3.673</td>\n",
       "      <td>4.129</td>\n",
       "      <td>2.925</td>\n",
       "      <td>3.935</td>\n",
       "      <td>2.301</td>\n",
       "      <td>2.595</td>\n",
       "    </tr>\n",
       "    <tr>\n",
       "      <th>chevrolet</th>\n",
       "      <td>3.45</td>\n",
       "      <td>NaN</td>\n",
       "      <td>2.287</td>\n",
       "      <td>3.606</td>\n",
       "      <td>2.709</td>\n",
       "      <td>9.693</td>\n",
       "      <td>3.772</td>\n",
       "      <td>2.39</td>\n",
       "      <td>2.019</td>\n",
       "      <td>2.069</td>\n",
       "    </tr>\n",
       "    <tr>\n",
       "      <th>honda</th>\n",
       "      <td>4.491</td>\n",
       "      <td>2.287</td>\n",
       "      <td>NaN</td>\n",
       "      <td>2.866</td>\n",
       "      <td>3.765</td>\n",
       "      <td>4.306</td>\n",
       "      <td>2.896</td>\n",
       "      <td>2.816</td>\n",
       "      <td>2.206</td>\n",
       "      <td>2.255</td>\n",
       "    </tr>\n",
       "    <tr>\n",
       "      <th>hyundai</th>\n",
       "      <td>3.234</td>\n",
       "      <td>3.606</td>\n",
       "      <td>2.866</td>\n",
       "      <td>NaN</td>\n",
       "      <td>3.75</td>\n",
       "      <td>9.554</td>\n",
       "      <td>4.372</td>\n",
       "      <td>2.418</td>\n",
       "      <td>2.502</td>\n",
       "      <td>1.096</td>\n",
       "    </tr>\n",
       "    <tr>\n",
       "      <th>mazda</th>\n",
       "      <td>3.673</td>\n",
       "      <td>2.709</td>\n",
       "      <td>3.765</td>\n",
       "      <td>3.75</td>\n",
       "      <td>NaN</td>\n",
       "      <td>9.474</td>\n",
       "      <td>3.967</td>\n",
       "      <td>2.618</td>\n",
       "      <td>8.312</td>\n",
       "      <td>1.446</td>\n",
       "    </tr>\n",
       "    <tr>\n",
       "      <th>suzuki</th>\n",
       "      <td>4.129</td>\n",
       "      <td>9.693</td>\n",
       "      <td>4.306</td>\n",
       "      <td>9.554</td>\n",
       "      <td>9.474</td>\n",
       "      <td>NaN</td>\n",
       "      <td>5.038</td>\n",
       "      <td>3.175</td>\n",
       "      <td>7.504</td>\n",
       "      <td>4.074</td>\n",
       "    </tr>\n",
       "    <tr>\n",
       "      <th>ford</th>\n",
       "      <td>2.925</td>\n",
       "      <td>3.772</td>\n",
       "      <td>2.896</td>\n",
       "      <td>4.372</td>\n",
       "      <td>3.967</td>\n",
       "      <td>5.038</td>\n",
       "      <td>NaN</td>\n",
       "      <td>3.161</td>\n",
       "      <td>2.169</td>\n",
       "      <td>1.618</td>\n",
       "    </tr>\n",
       "    <tr>\n",
       "      <th>bmw</th>\n",
       "      <td>3.935</td>\n",
       "      <td>2.39</td>\n",
       "      <td>2.816</td>\n",
       "      <td>2.418</td>\n",
       "      <td>2.618</td>\n",
       "      <td>3.175</td>\n",
       "      <td>3.161</td>\n",
       "      <td>NaN</td>\n",
       "      <td>2.061</td>\n",
       "      <td>3.379</td>\n",
       "    </tr>\n",
       "    <tr>\n",
       "      <th>subaru</th>\n",
       "      <td>2.301</td>\n",
       "      <td>2.019</td>\n",
       "      <td>2.206</td>\n",
       "      <td>2.502</td>\n",
       "      <td>8.312</td>\n",
       "      <td>7.504</td>\n",
       "      <td>2.169</td>\n",
       "      <td>2.061</td>\n",
       "      <td>NaN</td>\n",
       "      <td>2.029</td>\n",
       "    </tr>\n",
       "    <tr>\n",
       "      <th>pontiac</th>\n",
       "      <td>2.595</td>\n",
       "      <td>2.069</td>\n",
       "      <td>2.255</td>\n",
       "      <td>1.096</td>\n",
       "      <td>1.446</td>\n",
       "      <td>4.074</td>\n",
       "      <td>1.618</td>\n",
       "      <td>3.379</td>\n",
       "      <td>2.029</td>\n",
       "      <td>NaN</td>\n",
       "    </tr>\n",
       "  </tbody>\n",
       "</table>\n",
       "</div>"
      ],
      "text/plain": [
       "          toyota chevrolet  honda hyundai  mazda suzuki   ford    bmw subaru  \\\n",
       "toyota       NaN      3.45  4.491   3.234  3.673  4.129  2.925  3.935  2.301   \n",
       "chevrolet   3.45       NaN  2.287   3.606  2.709  9.693  3.772   2.39  2.019   \n",
       "honda      4.491     2.287    NaN   2.866  3.765  4.306  2.896  2.816  2.206   \n",
       "hyundai    3.234     3.606  2.866     NaN   3.75  9.554  4.372  2.418  2.502   \n",
       "mazda      3.673     2.709  3.765    3.75    NaN  9.474  3.967  2.618  8.312   \n",
       "suzuki     4.129     9.693  4.306   9.554  9.474    NaN  5.038  3.175  7.504   \n",
       "ford       2.925     3.772  2.896   4.372  3.967  5.038    NaN  3.161  2.169   \n",
       "bmw        3.935      2.39  2.816   2.418  2.618  3.175  3.161    NaN  2.061   \n",
       "subaru     2.301     2.019  2.206   2.502  8.312  7.504  2.169  2.061    NaN   \n",
       "pontiac    2.595     2.069  2.255   1.096  1.446  4.074  1.618  3.379  2.029   \n",
       "\n",
       "          pontiac  \n",
       "toyota      2.595  \n",
       "chevrolet   2.069  \n",
       "honda       2.255  \n",
       "hyundai     1.096  \n",
       "mazda       1.446  \n",
       "suzuki      4.074  \n",
       "ford        1.618  \n",
       "bmw         3.379  \n",
       "subaru      2.029  \n",
       "pontiac       NaN  "
      ]
     },
     "execution_count": 121,
     "metadata": {},
     "output_type": "execute_result"
    }
   ],
   "source": [
    "lift_dict"
   ]
  },
  {
   "cell_type": "code",
   "execution_count": 116,
   "metadata": {},
   "outputs": [
    {
     "data": {
      "text/plain": [
       "array([[-0.05239207, -0.12951336],\n",
       "       [ 0.29582948, -0.31203823],\n",
       "       [-0.17451754,  0.03506205],\n",
       "       [ 0.61506785,  0.09087206],\n",
       "       [ 0.26134621,  0.35716961],\n",
       "       [ 0.05870275,  0.50419909],\n",
       "       [ 0.34864387, -0.04210748],\n",
       "       [-0.19444431, -0.38991694],\n",
       "       [-0.34462829,  0.43655144],\n",
       "       [-0.81360794, -0.55027826]])"
      ]
     },
     "execution_count": 116,
     "metadata": {},
     "output_type": "execute_result"
    }
   ],
   "source": [
    "mdslifts = lift_dict\n",
    "mdslifts.reset_index(drop=True, inplace=True)\n",
    "mds = MDS(random_state=0)\n",
    "mdslifts = mds.fit_transform(mdslifts)\n",
    "mdslifts"
   ]
  },
  {
   "cell_type": "code",
   "execution_count": 118,
   "metadata": {},
   "outputs": [
    {
     "data": {
      "image/png": "[encoded data removed]",
      "text/plain": [
       "<Figure size 720x288 with 1 Axes>"
      ]
     },
     "metadata": {
      "needs_background": "light"
     },
     "output_type": "display_data"
    }
   ],
   "source": [
    "colors = ['#41FB29', '#3C83E2', '#C41965', '#E56FC1', '#0F817B', '#60446F', '#E45A2B', '#D4E24F', '#F2CF2B', '#04AFD4']\n",
    "brands = ['toyota', 'chevrolet', 'honda', 'hyundai', 'mazda', 'suzuki', 'ford', 'bmw', 'subaru', 'pontiac']\n",
    "#          toyota     chevrolet   honda     hyundai    mazda      suzuki      ford      bmw        subaru     pontiac\n",
    "size = [64, 64, 64, 64, 64, 64, 64, 64, 64, 64] ##41FB29\n",
    "fig = plt.figure(2, (10,4))\n",
    "plt.scatter(mdslifts[:,0], mdslifts[:,1], s=size, c=colors)\n",
    "count = 0\n",
    "for x, y in zip(mdslifts[:,0], mdslifts[:,1]):\n",
    "    label = \"{0}\".format(brands[count])\n",
    "    count += 1\n",
    "    plt.annotate(label, # this is the text\n",
    "                 (x,y), # these are the coordinates to position the label\n",
    "                 textcoords=\"offset points\", # how to position the text\n",
    "                 xytext=(0,10), # distance from text to points (x,y)\n",
    "                 ha=('center') # horizontal alignment\n",
    "    )\n",
    "plt.title('mds')\n",
    "plt.show()"
   ]
  },
  {
   "cell_type": "code",
   "execution_count": null,
   "metadata": {},
   "outputs": [],
   "source": [
    "attr_lifts= pd.DataFrame(index=top_10_barnds, columns=top_10_barnds)\n",
    "total_shape = data2.shape[0]\n",
    "for i in range(len(top_10_barnds)):\n",
    "    for j in range(len(top_10_barnds)):\n",
    "        brand_1 = top_10_barnds[i]\n",
    "        brand_2 = top_10_barnds[j]\n",
    "        count_1 = 0\n",
    "        count_2 = 0\n",
    "        count_3 = 0\n",
    "        \n",
    "        for txt in data2.text_updated.values:\n",
    "            if brand_1 in txt and brand_2 in txt:\n",
    "                count_3 = count_3 + 1\n",
    "            elif brand_1 in txt and brand_2 not in txt:\n",
    "                count_1 = count_1 + 1 \n",
    "            elif brand_1 not in txt and brand_2 in txt:\n",
    "                count_2 = count_2 + 1\n",
    "        \n",
    "        if(brand_1==brand_2):\n",
    "            ans=np.nan\n",
    "\n",
    "        pa = count_1/total_shape\n",
    "        pb = count_2/total_shape\n",
    "        pab = count_3/total_shape\n",
    "        ans = (pa*pb)/pab\n",
    "        \n",
    "        attr_lifts[brand_1][brand_2] = round(ans,3)"
   ]
  }
 ],
 "metadata": {
  "kernelspec": {
   "display_name": "Python 3.9.12 ('base')",
   "language": "python",
   "name": "python3"
  },
  "language_info": {
   "codemirror_mode": {
    "name": "ipython",
    "version": 3
   },
   "file_extension": ".py",
   "mimetype": "text/x-python",
   "name": "python",
   "nbconvert_exporter": "python",
   "pygments_lexer": "ipython3",
   "version": "3.9.12"
  },
  "vscode": {
   "interpreter": {
    "hash": "a2f36d4f0fab32c067f747ee04c69255073dcd12dd897c9c524bc34636b9f1b8"
   }
  }
 },
 "nbformat": 4,
 "nbformat_minor": 2
}
