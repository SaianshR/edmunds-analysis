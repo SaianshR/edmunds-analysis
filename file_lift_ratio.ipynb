{
 "cells": [
  {
   "cell_type": "code",
   "execution_count": 1,
   "metadata": {},
   "outputs": [],
   "source": [
    "import pandas as pd\n",
    "import numpy as np\n",
    "import pandas as pd\n",
    "import matplotlib.pyplot as plt\n",
    "import seaborn as sns\n",
    "from nltk import FreqDist\n",
    "#To ignore warning messages\n",
    "import warnings\n",
    "warnings.filterwarnings('ignore')\n"
   ]
  },
  {
   "cell_type": "code",
   "execution_count": 2,
   "metadata": {},
   "outputs": [],
   "source": [
    "data1 = pd.read_csv('car models and brands (3).csv')\n",
    "data2 = pd.read_csv('sample data.csv')"
   ]
  },
  {
   "cell_type": "code",
   "execution_count": 3,
   "metadata": {},
   "outputs": [
    {
     "data": {
      "text/html": [
       "<div>\n",
       "<style scoped>\n",
       "    .dataframe tbody tr th:only-of-type {\n",
       "        vertical-align: middle;\n",
       "    }\n",
       "\n",
       "    .dataframe tbody tr th {\n",
       "        vertical-align: top;\n",
       "    }\n",
       "\n",
       "    .dataframe thead th {\n",
       "        text-align: right;\n",
       "    }\n",
       "</style>\n",
       "<table border=\"1\" class=\"dataframe\">\n",
       "  <thead>\n",
       "    <tr style=\"text-align: right;\">\n",
       "      <th></th>\n",
       "      <th>Brand</th>\n",
       "      <th>Model</th>\n",
       "    </tr>\n",
       "  </thead>\n",
       "  <tbody>\n",
       "    <tr>\n",
       "      <th>0</th>\n",
       "      <td>acura</td>\n",
       "      <td>integra</td>\n",
       "    </tr>\n",
       "    <tr>\n",
       "      <th>1</th>\n",
       "      <td>acura</td>\n",
       "      <td>legend</td>\n",
       "    </tr>\n",
       "    <tr>\n",
       "      <th>2</th>\n",
       "      <td>acura</td>\n",
       "      <td>vigor</td>\n",
       "    </tr>\n",
       "    <tr>\n",
       "      <th>3</th>\n",
       "      <td>acura</td>\n",
       "      <td>rlx</td>\n",
       "    </tr>\n",
       "    <tr>\n",
       "      <th>4</th>\n",
       "      <td>acura</td>\n",
       "      <td>ilx</td>\n",
       "    </tr>\n",
       "  </tbody>\n",
       "</table>\n",
       "</div>"
      ],
      "text/plain": [
       "   Brand    Model\n",
       "0  acura  integra\n",
       "1  acura   legend\n",
       "2  acura    vigor\n",
       "3  acura      rlx\n",
       "4  acura      ilx"
      ]
     },
     "execution_count": 3,
     "metadata": {},
     "output_type": "execute_result"
    }
   ],
   "source": [
    "data1.head()"
   ]
  },
  {
   "cell_type": "code",
   "execution_count": 4,
   "metadata": {},
   "outputs": [
    {
     "data": {
      "text/html": [
       "<div>\n",
       "<style scoped>\n",
       "    .dataframe tbody tr th:only-of-type {\n",
       "        vertical-align: middle;\n",
       "    }\n",
       "\n",
       "    .dataframe tbody tr th {\n",
       "        vertical-align: top;\n",
       "    }\n",
       "\n",
       "    .dataframe thead th {\n",
       "        text-align: right;\n",
       "    }\n",
       "</style>\n",
       "<table border=\"1\" class=\"dataframe\">\n",
       "  <thead>\n",
       "    <tr style=\"text-align: right;\">\n",
       "      <th></th>\n",
       "      <th>brightness04</th>\n",
       "      <th>6-Oct</th>\n",
       "      <th>\"  kia hyundai under-achieving  \"  kia hyundai  and   \"  kia hyundai over-achieving  \"  kia hyundai  are relative terms . . . boy i learned that lesson in school, the hard way. lol. achieving top 20% income level as early as the late-20's is quite impressive. keep in mind however the average income earner do not buy the average-priced new car . . . the avearge income households buy used  car . it's really quite tough to afford a car that costs more 30-50% of the buyer's annual income at the time of purchase, unless the buyer is still living off parents or something. a typical car cost 50% of its purchase-time price in the three years after acquisition, through depreciation, interest payment, taxes, insurance, etc.. that means roughly 16% of income each year for someone acquiring a car that is priced at 50% of his income . . . that means roughly 30% of after-tax income each year for the first three years, for someone who buys a $40k car on an $80k income. that's just not manageable for most households. lease subsidies, and manufacturers' rebates that do not get reflected in the lease residual can change the numbers significantly . . . but neither is available for  bmw  at this time.</th>\n",
       "    </tr>\n",
       "  </thead>\n",
       "  <tbody>\n",
       "    <tr>\n",
       "      <th>0</th>\n",
       "      <td>kdshapiro</td>\n",
       "      <td>6-Oct</td>\n",
       "      <td>\"  kia hyundai most bmw's owners paid for t...</td>\n",
       "    </tr>\n",
       "    <tr>\n",
       "      <th>1</th>\n",
       "      <td>fedlawman</td>\n",
       "      <td>6-Oct</td>\n",
       "      <td>\"  kia hyundai it's not a matter of   \"  ki...</td>\n",
       "    </tr>\n",
       "    <tr>\n",
       "      <th>2</th>\n",
       "      <td>rockylee</td>\n",
       "      <td>6-Oct</td>\n",
       "      <td>\"  kia hyundai under-achieving  \"  kia hyun...</td>\n",
       "    </tr>\n",
       "    <tr>\n",
       "      <th>3</th>\n",
       "      <td>rockylee</td>\n",
       "      <td>6-Oct</td>\n",
       "      <td>i have 2 friends that own 3 series. i drove b...</td>\n",
       "    </tr>\n",
       "    <tr>\n",
       "      <th>4</th>\n",
       "      <td>oldcem</td>\n",
       "      <td>6-Oct</td>\n",
       "      <td>neither can the bmw 325is, 2.0t  audi s, etc....</td>\n",
       "    </tr>\n",
       "  </tbody>\n",
       "</table>\n",
       "</div>"
      ],
      "text/plain": [
       "  brightness04  6-Oct  \\\n",
       "0    kdshapiro  6-Oct   \n",
       "1    fedlawman  6-Oct   \n",
       "2     rockylee  6-Oct   \n",
       "3     rockylee  6-Oct   \n",
       "4       oldcem  6-Oct   \n",
       "\n",
       "     \"  kia hyundai under-achieving  \"  kia hyundai  and   \"  kia hyundai over-achieving  \"  kia hyundai  are relative terms . . . boy i learned that lesson in school, the hard way. lol. achieving top 20% income level as early as the late-20's is quite impressive. keep in mind however the average income earner do not buy the average-priced new car . . . the avearge income households buy used  car . it's really quite tough to afford a car that costs more 30-50% of the buyer's annual income at the time of purchase, unless the buyer is still living off parents or something. a typical car cost 50% of its purchase-time price in the three years after acquisition, through depreciation, interest payment, taxes, insurance, etc.. that means roughly 16% of income each year for someone acquiring a car that is priced at 50% of his income . . . that means roughly 30% of after-tax income each year for the first three years, for someone who buys a $40k car on an $80k income. that's just not manageable for most households. lease subsidies, and manufacturers' rebates that do not get reflected in the lease residual can change the numbers significantly . . . but neither is available for  bmw  at this time.   \n",
       "0     \"  kia hyundai most bmw's owners paid for t...                                                                                                                                                                                                                                                                                                                                                                                                                                                                                                                                                                                                                                                                                                                                                                                                                                                                                                                                                                                                                                                                                                                                                                                                    \n",
       "1     \"  kia hyundai it's not a matter of   \"  ki...                                                                                                                                                                                                                                                                                                                                                                                                                                                                                                                                                                                                                                                                                                                                                                                                                                                                                                                                                                                                                                                                                                                                                                                                    \n",
       "2     \"  kia hyundai under-achieving  \"  kia hyun...                                                                                                                                                                                                                                                                                                                                                                                                                                                                                                                                                                                                                                                                                                                                                                                                                                                                                                                                                                                                                                                                                                                                                                                                    \n",
       "3   i have 2 friends that own 3 series. i drove b...                                                                                                                                                                                                                                                                                                                                                                                                                                                                                                                                                                                                                                                                                                                                                                                                                                                                                                                                                                                                                                                                                                                                                                                                    \n",
       "4   neither can the bmw 325is, 2.0t  audi s, etc....                                                                                                                                                                                                                                                                                                                                                                                                                                                                                                                                                                                                                                                                                                                                                                                                                                                                                                                                                                                                                                                                                                                                                                                                    "
      ]
     },
     "execution_count": 4,
     "metadata": {},
     "output_type": "execute_result"
    }
   ],
   "source": [
    "data2.head()"
   ]
  },
  {
   "cell_type": "code",
   "execution_count": 5,
   "metadata": {},
   "outputs": [],
   "source": [
    "data2.columns = ['Username','date','text']"
   ]
  },
  {
   "cell_type": "code",
   "execution_count": 6,
   "metadata": {},
   "outputs": [
    {
     "data": {
      "text/html": [
       "<div>\n",
       "<style scoped>\n",
       "    .dataframe tbody tr th:only-of-type {\n",
       "        vertical-align: middle;\n",
       "    }\n",
       "\n",
       "    .dataframe tbody tr th {\n",
       "        vertical-align: top;\n",
       "    }\n",
       "\n",
       "    .dataframe thead th {\n",
       "        text-align: right;\n",
       "    }\n",
       "</style>\n",
       "<table border=\"1\" class=\"dataframe\">\n",
       "  <thead>\n",
       "    <tr style=\"text-align: right;\">\n",
       "      <th></th>\n",
       "      <th>Username</th>\n",
       "      <th>date</th>\n",
       "      <th>text</th>\n",
       "    </tr>\n",
       "  </thead>\n",
       "  <tbody>\n",
       "    <tr>\n",
       "      <th>0</th>\n",
       "      <td>kdshapiro</td>\n",
       "      <td>6-Oct</td>\n",
       "      <td>\"  kia hyundai most bmw's owners paid for t...</td>\n",
       "    </tr>\n",
       "    <tr>\n",
       "      <th>1</th>\n",
       "      <td>fedlawman</td>\n",
       "      <td>6-Oct</td>\n",
       "      <td>\"  kia hyundai it's not a matter of   \"  ki...</td>\n",
       "    </tr>\n",
       "    <tr>\n",
       "      <th>2</th>\n",
       "      <td>rockylee</td>\n",
       "      <td>6-Oct</td>\n",
       "      <td>\"  kia hyundai under-achieving  \"  kia hyun...</td>\n",
       "    </tr>\n",
       "    <tr>\n",
       "      <th>3</th>\n",
       "      <td>rockylee</td>\n",
       "      <td>6-Oct</td>\n",
       "      <td>i have 2 friends that own 3 series. i drove b...</td>\n",
       "    </tr>\n",
       "    <tr>\n",
       "      <th>4</th>\n",
       "      <td>oldcem</td>\n",
       "      <td>6-Oct</td>\n",
       "      <td>neither can the bmw 325is, 2.0t  audi s, etc....</td>\n",
       "    </tr>\n",
       "  </tbody>\n",
       "</table>\n",
       "</div>"
      ],
      "text/plain": [
       "    Username   date                                               text\n",
       "0  kdshapiro  6-Oct     \"  kia hyundai most bmw's owners paid for t...\n",
       "1  fedlawman  6-Oct     \"  kia hyundai it's not a matter of   \"  ki...\n",
       "2   rockylee  6-Oct     \"  kia hyundai under-achieving  \"  kia hyun...\n",
       "3   rockylee  6-Oct   i have 2 friends that own 3 series. i drove b...\n",
       "4     oldcem  6-Oct   neither can the bmw 325is, 2.0t  audi s, etc...."
      ]
     },
     "execution_count": 6,
     "metadata": {},
     "output_type": "execute_result"
    }
   ],
   "source": [
    "data2.head()"
   ]
  },
  {
   "cell_type": "code",
   "execution_count": 7,
   "metadata": {},
   "outputs": [],
   "source": [
    "def build_corpus(text_col):\n",
    "    \"\"\"To build a text corpus by stitching all the records together.Input the text column\"\"\"\n",
    "    corpus = \"\"\n",
    "    for sent in text_col:\n",
    "        corpus += sent\n",
    "    return corpus"
   ]
  },
  {
   "cell_type": "code",
   "execution_count": 8,
   "metadata": {},
   "outputs": [],
   "source": [
    "#Building the corpus\n",
    "corpus = build_corpus(data2['text'])"
   ]
  },
  {
   "cell_type": "code",
   "execution_count": 9,
   "metadata": {},
   "outputs": [],
   "source": [
    "#Converting all the words into lowercase\n",
    "corpus = corpus.lower()"
   ]
  },
  {
   "cell_type": "code",
   "execution_count": 10,
   "metadata": {},
   "outputs": [],
   "source": [
    "#Splitting the entire corpus\n",
    "corpus = corpus.split()"
   ]
  },
  {
   "cell_type": "code",
   "execution_count": 11,
   "metadata": {},
   "outputs": [],
   "source": [
    "def plot_word_frequency(words,top_n=10):\n",
    "    \"\"\"Function to plot the word frequencies\"\"\"\n",
    "    word_freq = FreqDist(words)\n",
    "    labels = [element[0] for element in word_freq.most_common(top_n)]\n",
    "    counts = [element[1] for element in word_freq.most_common(top_n)]\n",
    "    plt.figure(figsize=(15,5))\n",
    "    plt.title(\"Most Frequent Words in the Corpus - Including STOPWORDS\")\n",
    "    plt.ylabel(\"Count\")\n",
    "    plt.xlabel(\"Word\")\n",
    "    plt.xticks(rotation=90)\n",
    "    plot = sns.barplot(labels,counts)\n",
    "    return plot"
   ]
  },
  {
   "cell_type": "code",
   "execution_count": 12,
   "metadata": {},
   "outputs": [
    {
     "data": {
      "text/plain": [
       "<AxesSubplot:title={'center':'Most Frequent Words in the Corpus - Including STOPWORDS'}, xlabel='Word', ylabel='Count'>"
      ]
     },
     "execution_count": 12,
     "metadata": {},
     "output_type": "execute_result"
    },
    {
     "data": {
      "image/png": "[encoded data removed]",
      "text/plain": [
       "<Figure size 1080x360 with 1 Axes>"
      ]
     },
     "metadata": {
      "needs_background": "light"
     },
     "output_type": "display_data"
    }
   ],
   "source": [
    "plot_word_frequency(corpus,100)"
   ]
  },
  {
   "cell_type": "code",
   "execution_count": 13,
   "metadata": {},
   "outputs": [],
   "source": [
    "### Answer 2"
   ]
  },
  {
   "cell_type": "code",
   "execution_count": 14,
   "metadata": {},
   "outputs": [
    {
     "data": {
      "text/plain": [
       "Index(['toyota', 'chevrolet', 'honda', 'hyundai', 'mazda', 'suzuki', 'ford',\n",
       "       'bmw', 'subaru', 'pontiac'],\n",
       "      dtype='object')"
      ]
     },
     "execution_count": 14,
     "metadata": {},
     "output_type": "execute_result"
    }
   ],
   "source": [
    "top_10_barnds = data1.Brand.value_counts().index[:10]\n",
    "top_10_barnds"
   ]
  },
  {
   "cell_type": "code",
   "execution_count": 15,
   "metadata": {},
   "outputs": [],
   "source": [
    "## Count dictionary\n",
    "brand_model_dict = {}\n",
    "for model, brand in zip(data1.Model.values,data1.Brand.values):\n",
    "    model = model.lower()\n",
    "    brand_model_dict[model]=brand"
   ]
  },
  {
   "cell_type": "code",
   "execution_count": 37,
   "metadata": {},
   "outputs": [],
   "source": [
    "text_data = data2.text.values"
   ]
  },
  {
   "cell_type": "code",
   "execution_count": 39,
   "metadata": {},
   "outputs": [],
   "source": [
    "## Replacing the model with brand name\n",
    "for i in range(len(text_data)):\n",
    "    temp_data = text_data[i].lower()\n",
    "    for key in brand_model_dict:\n",
    "        if key in temp_data:\n",
    "            temp_data = temp_data.replace(key,brand_model_dict[key])\n",
    "    text_data[i] = temp_data\n"
   ]
  },
  {
   "cell_type": "code",
   "execution_count": 42,
   "metadata": {},
   "outputs": [],
   "source": [
    "data2['text_updated'] = text_data"
   ]
  },
  {
   "cell_type": "code",
   "execution_count": 44,
   "metadata": {},
   "outputs": [
    {
     "data": {
      "text/html": [
       "<div>\n",
       "<style scoped>\n",
       "    .dataframe tbody tr th:only-of-type {\n",
       "        vertical-align: middle;\n",
       "    }\n",
       "\n",
       "    .dataframe tbody tr th {\n",
       "        vertical-align: top;\n",
       "    }\n",
       "\n",
       "    .dataframe thead th {\n",
       "        text-align: right;\n",
       "    }\n",
       "</style>\n",
       "<table border=\"1\" class=\"dataframe\">\n",
       "  <thead>\n",
       "    <tr style=\"text-align: right;\">\n",
       "      <th></th>\n",
       "      <th>A</th>\n",
       "      <th>date</th>\n",
       "      <th>text</th>\n",
       "      <th>text_updated</th>\n",
       "    </tr>\n",
       "  </thead>\n",
       "  <tbody>\n",
       "    <tr>\n",
       "      <th>0</th>\n",
       "      <td>kdshapiro</td>\n",
       "      <td>6-Oct</td>\n",
       "      <td>\"  kia hyundai most bmw's owners paid for t...</td>\n",
       "      <td>\"  kia hyundai most bmw's owners paid for t...</td>\n",
       "    </tr>\n",
       "    <tr>\n",
       "      <th>1</th>\n",
       "      <td>fedlawman</td>\n",
       "      <td>6-Oct</td>\n",
       "      <td>\"  kia hyundai it's not a matter of   \"  ki...</td>\n",
       "      <td>\"  kia hyundai it's not a matter of   \"  ki...</td>\n",
       "    </tr>\n",
       "    <tr>\n",
       "      <th>2</th>\n",
       "      <td>rockylee</td>\n",
       "      <td>6-Oct</td>\n",
       "      <td>\"  kia hyundai under-achieving  \"  kia hyun...</td>\n",
       "      <td>\"  kia hyundai under-achieving  \"  kia hyun...</td>\n",
       "    </tr>\n",
       "    <tr>\n",
       "      <th>3</th>\n",
       "      <td>rockylee</td>\n",
       "      <td>6-Oct</td>\n",
       "      <td>i have 2 friends that own 3 series. i drove b...</td>\n",
       "      <td>i have 2 friends that own 3 series. i drove b...</td>\n",
       "    </tr>\n",
       "    <tr>\n",
       "      <th>4</th>\n",
       "      <td>oldcem</td>\n",
       "      <td>6-Oct</td>\n",
       "      <td>neither can the bmw 325is, 2.0t  audi s, etc....</td>\n",
       "      <td>neither can the bmw 325is, 2.0t  audi s, etc....</td>\n",
       "    </tr>\n",
       "  </tbody>\n",
       "</table>\n",
       "</div>"
      ],
      "text/plain": [
       "           A   date                                               text  \\\n",
       "0  kdshapiro  6-Oct     \"  kia hyundai most bmw's owners paid for t...   \n",
       "1  fedlawman  6-Oct     \"  kia hyundai it's not a matter of   \"  ki...   \n",
       "2   rockylee  6-Oct     \"  kia hyundai under-achieving  \"  kia hyun...   \n",
       "3   rockylee  6-Oct   i have 2 friends that own 3 series. i drove b...   \n",
       "4     oldcem  6-Oct   neither can the bmw 325is, 2.0t  audi s, etc....   \n",
       "\n",
       "                                        text_updated  \n",
       "0     \"  kia hyundai most bmw's owners paid for t...  \n",
       "1     \"  kia hyundai it's not a matter of   \"  ki...  \n",
       "2     \"  kia hyundai under-achieving  \"  kia hyun...  \n",
       "3   i have 2 friends that own 3 series. i drove b...  \n",
       "4   neither can the bmw 325is, 2.0t  audi s, etc....  "
      ]
     },
     "execution_count": 44,
     "metadata": {},
     "output_type": "execute_result"
    }
   ],
   "source": [
    "data2.head()"
   ]
  },
  {
   "cell_type": "code",
   "execution_count": null,
   "metadata": {},
   "outputs": [],
   "source": [
    "### 3 part"
   ]
  },
  {
   "cell_type": "code",
   "execution_count": 57,
   "metadata": {},
   "outputs": [],
   "source": [
    "## Calculating the lift ratio for top 10 brand without repeating\n",
    "lift_dict={}\n",
    "total_shape = data2.shape[0]\n",
    "for i in range(len(top_10_barnds)):\n",
    "    for j in range(i,len(top_10_barnds)):\n",
    "        brand_1 = top_10_barnds[i]\n",
    "        brand_2 = top_10_barnds[j]\n",
    "        count_1 = 0\n",
    "        count_2 = 0\n",
    "        count_3 = 0\n",
    "        for txt in data2.text_updated.values:\n",
    "            if brand_1 in txt and brand_2 in txt:\n",
    "                count_3 = count_3 + 1\n",
    "            elif brand_1 in txt and brand_2 not in txt:\n",
    "                count_1 = count_1 + 1 \n",
    "            elif brand_1 not in txt and brand_2 in txt:\n",
    "                count_2 = count_2 + 1\n",
    "        pa = count_1/total_shape\n",
    "        pb = count_2/total_shape\n",
    "        pab = count_3/total_shape\n",
    "        ans = (pa*pb)/pab\n",
    "        lift_dict[(brand_1,brand_2)] = round(ans,3)\n",
    "\n",
    "\n",
    "\n",
    "        \n",
    "\n",
    "\n"
   ]
  },
  {
   "cell_type": "code",
   "execution_count": 58,
   "metadata": {},
   "outputs": [
    {
     "data": {
      "text/plain": [
       "{('bmw', 'nissan'): 0.592,\n",
       " ('hyundai', 'subaru'): 0.521,\n",
       " ('hyundai', 'suzuki'): 0.496,\n",
       " ('bmw', 'subaru'): 0.461,\n",
       " ('hyundai', 'mazda'): 0.457,\n",
       " ('chevrolet', 'bmw'): 0.455,\n",
       " ('chevrolet', 'honda'): 0.453,\n",
       " ('chevrolet', 'subaru'): 0.394,\n",
       " ('hyundai', 'nissan'): 0.363,\n",
       " ('ford', 'subaru'): 0.359,\n",
       " ('suzuki', 'ford'): 0.356,\n",
       " ('honda', 'subaru'): 0.348,\n",
       " ('subaru', 'nissan'): 0.348,\n",
       " ('toyota', 'subaru'): 0.339,\n",
       " ('mazda', 'bmw'): 0.337,\n",
       " ('honda', 'ford'): 0.331,\n",
       " ('honda', 'bmw'): 0.32,\n",
       " ('hyundai', 'ford'): 0.32,\n",
       " ('toyota', 'ford'): 0.315,\n",
       " ('mazda', 'ford'): 0.313,\n",
       " ('ford', 'nissan'): 0.288,\n",
       " ('chevrolet', 'hyundai'): 0.287,\n",
       " ('chevrolet', 'nissan'): 0.286,\n",
       " ('honda', 'mazda'): 0.283,\n",
       " ('honda', 'hyundai'): 0.282,\n",
       " ('ford', 'bmw'): 0.281,\n",
       " ('toyota', 'mazda'): 0.275,\n",
       " ('honda', 'nissan'): 0.273,\n",
       " ('chevrolet', 'mazda'): 0.263,\n",
       " ('toyota', 'nissan'): 0.257,\n",
       " ('toyota', 'chevrolet'): 0.248,\n",
       " ('mazda', 'nissan'): 0.241,\n",
       " ('hyundai', 'bmw'): 0.24,\n",
       " ('toyota', 'bmw'): 0.232,\n",
       " ('chevrolet', 'ford'): 0.213,\n",
       " ('toyota', 'honda'): 0.208,\n",
       " ('toyota', 'hyundai'): 0.204,\n",
       " ('suzuki', 'bmw'): 0.203,\n",
       " ('honda', 'suzuki'): 0.197,\n",
       " ('suzuki', 'nissan'): 0.135,\n",
       " ('toyota', 'suzuki'): 0.127,\n",
       " ('chevrolet', 'suzuki'): 0.101,\n",
       " ('mazda', 'suzuki'): 0.098,\n",
       " ('suzuki', 'subaru'): 0.082,\n",
       " ('mazda', 'subaru'): 0.068,\n",
       " ('toyota', 'toyota'): 0.0,\n",
       " ('chevrolet', 'chevrolet'): 0.0,\n",
       " ('honda', 'honda'): 0.0,\n",
       " ('hyundai', 'hyundai'): 0.0,\n",
       " ('mazda', 'mazda'): 0.0,\n",
       " ('suzuki', 'suzuki'): 0.0,\n",
       " ('ford', 'ford'): 0.0,\n",
       " ('bmw', 'bmw'): 0.0,\n",
       " ('subaru', 'subaru'): 0.0,\n",
       " ('nissan', 'nissan'): 0.0}"
      ]
     },
     "execution_count": 58,
     "metadata": {},
     "output_type": "execute_result"
    }
   ],
   "source": [
    "lift_dict = sorted(lift_dict.items(),key=lambda kv : kv[1],reverse=True)\n",
    "lift_dict = {val[0]:val[1] for val in lift_dict}\n",
    "lift_dict"
   ]
  },
  {
   "cell_type": "code",
   "execution_count": null,
   "metadata": {},
   "outputs": [],
   "source": []
  }
 ],
 "metadata": {
  "kernelspec": {
   "display_name": "Python 3 (ipykernel)",
   "language": "python",
   "name": "python3"
  },
  "language_info": {
   "codemirror_mode": {
    "name": "ipython",
    "version": 3
   },
   "file_extension": ".py",
   "mimetype": "text/x-python",
   "name": "python",
   "nbconvert_exporter": "python",
   "pygments_lexer": "ipython3",
   "version": "3.9.12"
  },
  "vscode": {
   "interpreter": {
    "hash": "ec4f007d6c62ba27e72dc4eaede2153b380f92957ad692372108468a667c5304"
   }
  }
 },
 "nbformat": 4,
 "nbformat_minor": 2
}
