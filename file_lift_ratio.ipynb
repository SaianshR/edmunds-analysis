{
 "cells": [
  {
   "cell_type": "code",
   "execution_count": 47,
   "metadata": {},
   "outputs": [],
   "source": [
    "import pandas as pd\n",
    "import numpy as np\n",
    "import pandas as pd\n",
    "import matplotlib.pyplot as plt\n",
    "import seaborn as sns\n",
    "from nltk import FreqDist\n",
    "from sklearn.manifold import MDS\n",
    "from matplotlib.offsetbox import OffsetImage, AnnotationBbox\n",
    "\n",
    "#To ignore warning messages\n",
    "import warnings\n",
    "warnings.filterwarnings('ignore')\n"
   ]
  },
  {
   "cell_type": "code",
   "execution_count": 26,
   "metadata": {},
   "outputs": [],
   "source": [
    "data1 = pd.read_csv('car models and brands (3).csv')\n",
    "data2 = pd.read_csv('edmunds_forum.csv')"
   ]
  },
  {
   "cell_type": "code",
   "execution_count": 27,
   "metadata": {},
   "outputs": [
    {
     "data": {
      "text/html": [
       "<div>\n",
       "<style scoped>\n",
       "    .dataframe tbody tr th:only-of-type {\n",
       "        vertical-align: middle;\n",
       "    }\n",
       "\n",
       "    .dataframe tbody tr th {\n",
       "        vertical-align: top;\n",
       "    }\n",
       "\n",
       "    .dataframe thead th {\n",
       "        text-align: right;\n",
       "    }\n",
       "</style>\n",
       "<table border=\"1\" class=\"dataframe\">\n",
       "  <thead>\n",
       "    <tr style=\"text-align: right;\">\n",
       "      <th></th>\n",
       "      <th>Brand</th>\n",
       "      <th>Model</th>\n",
       "    </tr>\n",
       "  </thead>\n",
       "  <tbody>\n",
       "    <tr>\n",
       "      <th>0</th>\n",
       "      <td>acura</td>\n",
       "      <td>integra</td>\n",
       "    </tr>\n",
       "    <tr>\n",
       "      <th>1</th>\n",
       "      <td>acura</td>\n",
       "      <td>legend</td>\n",
       "    </tr>\n",
       "    <tr>\n",
       "      <th>2</th>\n",
       "      <td>acura</td>\n",
       "      <td>vigor</td>\n",
       "    </tr>\n",
       "    <tr>\n",
       "      <th>3</th>\n",
       "      <td>acura</td>\n",
       "      <td>rlx</td>\n",
       "    </tr>\n",
       "    <tr>\n",
       "      <th>4</th>\n",
       "      <td>acura</td>\n",
       "      <td>ilx</td>\n",
       "    </tr>\n",
       "  </tbody>\n",
       "</table>\n",
       "</div>"
      ],
      "text/plain": [
       "   Brand    Model\n",
       "0  acura  integra\n",
       "1  acura   legend\n",
       "2  acura    vigor\n",
       "3  acura      rlx\n",
       "4  acura      ilx"
      ]
     },
     "execution_count": 27,
     "metadata": {},
     "output_type": "execute_result"
    }
   ],
   "source": [
    "data1.head()"
   ]
  },
  {
   "cell_type": "code",
   "execution_count": 28,
   "metadata": {},
   "outputs": [
    {
     "data": {
      "text/html": [
       "<div>\n",
       "<style scoped>\n",
       "    .dataframe tbody tr th:only-of-type {\n",
       "        vertical-align: middle;\n",
       "    }\n",
       "\n",
       "    .dataframe tbody tr th {\n",
       "        vertical-align: top;\n",
       "    }\n",
       "\n",
       "    .dataframe thead th {\n",
       "        text-align: right;\n",
       "    }\n",
       "</style>\n",
       "<table border=\"1\" class=\"dataframe\">\n",
       "  <thead>\n",
       "    <tr style=\"text-align: right;\">\n",
       "      <th></th>\n",
       "      <th>Unnamed: 0</th>\n",
       "      <th>Date</th>\n",
       "      <th>comments</th>\n",
       "    </tr>\n",
       "  </thead>\n",
       "  <tbody>\n",
       "    <tr>\n",
       "      <th>0</th>\n",
       "      <td>0</td>\n",
       "      <td>March 24, 2002 10:54PM</td>\n",
       "      <td>\\nI personally think that with a few tweaks th...</td>\n",
       "    </tr>\n",
       "    <tr>\n",
       "      <th>1</th>\n",
       "      <td>1</td>\n",
       "      <td>March 25, 2002 12:06AM</td>\n",
       "      <td>\\nI am debating a new purchase and these two a...</td>\n",
       "    </tr>\n",
       "    <tr>\n",
       "      <th>2</th>\n",
       "      <td>2</td>\n",
       "      <td>March 25, 2002 10:02AM</td>\n",
       "      <td>\\nGreat handling, RWD, excellent engine and th...</td>\n",
       "    </tr>\n",
       "    <tr>\n",
       "      <th>3</th>\n",
       "      <td>3</td>\n",
       "      <td>March 25, 2002 4:04PM</td>\n",
       "      <td>\\nAnd no manual tranny. That may not matter to...</td>\n",
       "    </tr>\n",
       "    <tr>\n",
       "      <th>4</th>\n",
       "      <td>4</td>\n",
       "      <td>March 25, 2002 5:44PM</td>\n",
       "      <td>\\nOne beauty of BMW 3 Series is that there are...</td>\n",
       "    </tr>\n",
       "  </tbody>\n",
       "</table>\n",
       "</div>"
      ],
      "text/plain": [
       "   Unnamed: 0                    Date  \\\n",
       "0           0  March 24, 2002 10:54PM   \n",
       "1           1  March 25, 2002 12:06AM   \n",
       "2           2  March 25, 2002 10:02AM   \n",
       "3           3   March 25, 2002 4:04PM   \n",
       "4           4   March 25, 2002 5:44PM   \n",
       "\n",
       "                                            comments  \n",
       "0  \\nI personally think that with a few tweaks th...  \n",
       "1  \\nI am debating a new purchase and these two a...  \n",
       "2  \\nGreat handling, RWD, excellent engine and th...  \n",
       "3  \\nAnd no manual tranny. That may not matter to...  \n",
       "4  \\nOne beauty of BMW 3 Series is that there are...  "
      ]
     },
     "execution_count": 28,
     "metadata": {},
     "output_type": "execute_result"
    }
   ],
   "source": [
    "data2.head()"
   ]
  },
  {
   "cell_type": "code",
   "execution_count": 29,
   "metadata": {},
   "outputs": [],
   "source": [
    "data2.columns = ['Username','date','text']"
   ]
  },
  {
   "cell_type": "code",
   "execution_count": 30,
   "metadata": {},
   "outputs": [
    {
     "data": {
      "text/html": [
       "<div>\n",
       "<style scoped>\n",
       "    .dataframe tbody tr th:only-of-type {\n",
       "        vertical-align: middle;\n",
       "    }\n",
       "\n",
       "    .dataframe tbody tr th {\n",
       "        vertical-align: top;\n",
       "    }\n",
       "\n",
       "    .dataframe thead th {\n",
       "        text-align: right;\n",
       "    }\n",
       "</style>\n",
       "<table border=\"1\" class=\"dataframe\">\n",
       "  <thead>\n",
       "    <tr style=\"text-align: right;\">\n",
       "      <th></th>\n",
       "      <th>Username</th>\n",
       "      <th>date</th>\n",
       "      <th>text</th>\n",
       "    </tr>\n",
       "  </thead>\n",
       "  <tbody>\n",
       "    <tr>\n",
       "      <th>0</th>\n",
       "      <td>0</td>\n",
       "      <td>March 24, 2002 10:54PM</td>\n",
       "      <td>\\nI personally think that with a few tweaks th...</td>\n",
       "    </tr>\n",
       "    <tr>\n",
       "      <th>1</th>\n",
       "      <td>1</td>\n",
       "      <td>March 25, 2002 12:06AM</td>\n",
       "      <td>\\nI am debating a new purchase and these two a...</td>\n",
       "    </tr>\n",
       "    <tr>\n",
       "      <th>2</th>\n",
       "      <td>2</td>\n",
       "      <td>March 25, 2002 10:02AM</td>\n",
       "      <td>\\nGreat handling, RWD, excellent engine and th...</td>\n",
       "    </tr>\n",
       "    <tr>\n",
       "      <th>3</th>\n",
       "      <td>3</td>\n",
       "      <td>March 25, 2002 4:04PM</td>\n",
       "      <td>\\nAnd no manual tranny. That may not matter to...</td>\n",
       "    </tr>\n",
       "    <tr>\n",
       "      <th>4</th>\n",
       "      <td>4</td>\n",
       "      <td>March 25, 2002 5:44PM</td>\n",
       "      <td>\\nOne beauty of BMW 3 Series is that there are...</td>\n",
       "    </tr>\n",
       "  </tbody>\n",
       "</table>\n",
       "</div>"
      ],
      "text/plain": [
       "   Username                    date  \\\n",
       "0         0  March 24, 2002 10:54PM   \n",
       "1         1  March 25, 2002 12:06AM   \n",
       "2         2  March 25, 2002 10:02AM   \n",
       "3         3   March 25, 2002 4:04PM   \n",
       "4         4   March 25, 2002 5:44PM   \n",
       "\n",
       "                                                text  \n",
       "0  \\nI personally think that with a few tweaks th...  \n",
       "1  \\nI am debating a new purchase and these two a...  \n",
       "2  \\nGreat handling, RWD, excellent engine and th...  \n",
       "3  \\nAnd no manual tranny. That may not matter to...  \n",
       "4  \\nOne beauty of BMW 3 Series is that there are...  "
      ]
     },
     "execution_count": 30,
     "metadata": {},
     "output_type": "execute_result"
    }
   ],
   "source": [
    "data2.head()"
   ]
  },
  {
   "cell_type": "code",
   "execution_count": 31,
   "metadata": {},
   "outputs": [],
   "source": [
    "def build_corpus(text_col):\n",
    "    \"\"\"To build a text corpus by stitching all the records together.Input the text column\"\"\"\n",
    "    corpus = \"\"\n",
    "    for sent in text_col:\n",
    "        corpus += sent\n",
    "    return corpus"
   ]
  },
  {
   "cell_type": "code",
   "execution_count": 32,
   "metadata": {},
   "outputs": [],
   "source": [
    "#Building the corpus\n",
    "corpus = build_corpus(data2['text'])"
   ]
  },
  {
   "cell_type": "code",
   "execution_count": 33,
   "metadata": {},
   "outputs": [],
   "source": [
    "#Converting all the words into lowercase\n",
    "corpus = corpus.lower()"
   ]
  },
  {
   "cell_type": "code",
   "execution_count": 34,
   "metadata": {},
   "outputs": [],
   "source": [
    "#Splitting the entire corpus\n",
    "corpus = corpus.split()"
   ]
  },
  {
   "cell_type": "code",
   "execution_count": 35,
   "metadata": {},
   "outputs": [],
   "source": [
    "def plot_word_frequency(words,top_n=10):\n",
    "    \"\"\"Function to plot the word frequencies\"\"\"\n",
    "    word_freq = FreqDist(words)\n",
    "    labels = [element[0] for element in word_freq.most_common(top_n)]\n",
    "    counts = [element[1] for element in word_freq.most_common(top_n)]\n",
    "    plt.figure(figsize=(15,5))\n",
    "    plt.title(\"Most Frequent Words in the Corpus - Including STOPWORDS\")\n",
    "    plt.ylabel(\"Count\")\n",
    "    plt.xlabel(\"Word\")\n",
    "    plt.xticks(rotation=90)\n",
    "    plot = sns.barplot(labels,counts)\n",
    "    return plot"
   ]
  },
  {
   "cell_type": "code",
   "execution_count": 36,
   "metadata": {},
   "outputs": [
    {
     "data": {
      "text/plain": [
       "<AxesSubplot:title={'center':'Most Frequent Words in the Corpus - Including STOPWORDS'}, xlabel='Word', ylabel='Count'>"
      ]
     },
     "execution_count": 36,
     "metadata": {},
     "output_type": "execute_result"
    },
    {
     "data": {
      "image/png": "[encoded data removed]",
      "text/plain": [
       "<Figure size 1080x360 with 1 Axes>"
      ]
     },
     "metadata": {
      "needs_background": "light"
     },
     "output_type": "display_data"
    }
   ],
   "source": [
    "plot_word_frequency(corpus,100)"
   ]
  },
  {
   "cell_type": "code",
   "execution_count": 37,
   "metadata": {},
   "outputs": [],
   "source": [
    "### Answer 2"
   ]
  },
  {
   "cell_type": "code",
   "execution_count": 38,
   "metadata": {},
   "outputs": [
    {
     "data": {
      "text/plain": [
       "Index(['toyota', 'chevrolet', 'honda', 'hyundai', 'mazda', 'suzuki', 'ford',\n",
       "       'bmw', 'subaru', 'pontiac'],\n",
       "      dtype='object')"
      ]
     },
     "execution_count": 38,
     "metadata": {},
     "output_type": "execute_result"
    }
   ],
   "source": [
    "top_10_barnds = data1.Brand.value_counts().index[:10]\n",
    "top_10_barnds"
   ]
  },
  {
   "cell_type": "code",
   "execution_count": 39,
   "metadata": {},
   "outputs": [],
   "source": [
    "## Count dictionary\n",
    "brand_model_dict = {}\n",
    "for model, brand in zip(data1.Model.values,data1.Brand.values):\n",
    "    model = model.lower()\n",
    "    brand_model_dict[model]=brand"
   ]
  },
  {
   "cell_type": "code",
   "execution_count": 40,
   "metadata": {},
   "outputs": [],
   "source": [
    "text_data = data2.text.values"
   ]
  },
  {
   "cell_type": "code",
   "execution_count": 41,
   "metadata": {},
   "outputs": [],
   "source": [
    "## Replacing the model with brand name\n",
    "for i in range(len(text_data)):\n",
    "    temp_data = text_data[i].lower()\n",
    "    for key in brand_model_dict:\n",
    "        if key in temp_data:\n",
    "            temp_data = temp_data.replace(key,brand_model_dict[key])\n",
    "    text_data[i] = temp_data\n"
   ]
  },
  {
   "cell_type": "code",
   "execution_count": 42,
   "metadata": {},
   "outputs": [],
   "source": [
    "data2['text_updated'] = text_data"
   ]
  },
  {
   "cell_type": "code",
   "execution_count": 43,
   "metadata": {},
   "outputs": [
    {
     "data": {
      "text/html": [
       "<div>\n",
       "<style scoped>\n",
       "    .dataframe tbody tr th:only-of-type {\n",
       "        vertical-align: middle;\n",
       "    }\n",
       "\n",
       "    .dataframe tbody tr th {\n",
       "        vertical-align: top;\n",
       "    }\n",
       "\n",
       "    .dataframe thead th {\n",
       "        text-align: right;\n",
       "    }\n",
       "</style>\n",
       "<table border=\"1\" class=\"dataframe\">\n",
       "  <thead>\n",
       "    <tr style=\"text-align: right;\">\n",
       "      <th></th>\n",
       "      <th>Username</th>\n",
       "      <th>date</th>\n",
       "      <th>text</th>\n",
       "      <th>text_updated</th>\n",
       "    </tr>\n",
       "  </thead>\n",
       "  <tbody>\n",
       "    <tr>\n",
       "      <th>0</th>\n",
       "      <td>0</td>\n",
       "      <td>March 24, 2002 10:54PM</td>\n",
       "      <td>\\ni personally think that with a few tweaks th...</td>\n",
       "      <td>\\ni personally think that with a few tweaks th...</td>\n",
       "    </tr>\n",
       "    <tr>\n",
       "      <th>1</th>\n",
       "      <td>1</td>\n",
       "      <td>March 25, 2002 12:06AM</td>\n",
       "      <td>\\ni am debating a new purchase and these two a...</td>\n",
       "      <td>\\ni am debating a new purchase and these two a...</td>\n",
       "    </tr>\n",
       "    <tr>\n",
       "      <th>2</th>\n",
       "      <td>2</td>\n",
       "      <td>March 25, 2002 10:02AM</td>\n",
       "      <td>\\ngreat handling, rwd, excellent engine and th...</td>\n",
       "      <td>\\ngreat handling, rwd, excellent engine and th...</td>\n",
       "    </tr>\n",
       "    <tr>\n",
       "      <th>3</th>\n",
       "      <td>3</td>\n",
       "      <td>March 25, 2002 4:04PM</td>\n",
       "      <td>\\nand no manual tranny. that may not matter to...</td>\n",
       "      <td>\\nand no manual tranny. that may not matter to...</td>\n",
       "    </tr>\n",
       "    <tr>\n",
       "      <th>4</th>\n",
       "      <td>4</td>\n",
       "      <td>March 25, 2002 5:44PM</td>\n",
       "      <td>\\none beauty of bmw 3 series is that there are...</td>\n",
       "      <td>\\none beauty of bmw 3 series is that there are...</td>\n",
       "    </tr>\n",
       "  </tbody>\n",
       "</table>\n",
       "</div>"
      ],
      "text/plain": [
       "   Username                    date  \\\n",
       "0         0  March 24, 2002 10:54PM   \n",
       "1         1  March 25, 2002 12:06AM   \n",
       "2         2  March 25, 2002 10:02AM   \n",
       "3         3   March 25, 2002 4:04PM   \n",
       "4         4   March 25, 2002 5:44PM   \n",
       "\n",
       "                                                text  \\\n",
       "0  \\ni personally think that with a few tweaks th...   \n",
       "1  \\ni am debating a new purchase and these two a...   \n",
       "2  \\ngreat handling, rwd, excellent engine and th...   \n",
       "3  \\nand no manual tranny. that may not matter to...   \n",
       "4  \\none beauty of bmw 3 series is that there are...   \n",
       "\n",
       "                                        text_updated  \n",
       "0  \\ni personally think that with a few tweaks th...  \n",
       "1  \\ni am debating a new purchase and these two a...  \n",
       "2  \\ngreat handling, rwd, excellent engine and th...  \n",
       "3  \\nand no manual tranny. that may not matter to...  \n",
       "4  \\none beauty of bmw 3 series is that there are...  "
      ]
     },
     "execution_count": 43,
     "metadata": {},
     "output_type": "execute_result"
    }
   ],
   "source": [
    "data2.head()"
   ]
  },
  {
   "cell_type": "code",
   "execution_count": 44,
   "metadata": {},
   "outputs": [],
   "source": [
    "### 3 part"
   ]
  },
  {
   "cell_type": "code",
   "execution_count": 60,
   "metadata": {},
   "outputs": [],
   "source": [
    "## Calculating the lift ratio for top 10 brand without repeating\n",
    "lift_dict= pd.DataFrame(index=top_10_barnds, columns=top_10_barnds)\n",
    "total_shape = data2.shape[0]\n",
    "for i in range(len(top_10_barnds)):\n",
    "    for j in range(len(top_10_barnds)):\n",
    "        brand_1 = top_10_barnds[i]\n",
    "        brand_2 = top_10_barnds[j]\n",
    "        count_1 = 0\n",
    "        count_2 = 0\n",
    "        count_3 = 0\n",
    "        \n",
    "        for txt in data2.text_updated.values:\n",
    "            if brand_1 in txt and brand_2 in txt:\n",
    "                count_3 = count_3 + 1\n",
    "            elif brand_1 in txt and brand_2 not in txt:\n",
    "                count_1 = count_1 + 1 \n",
    "            elif brand_1 not in txt and brand_2 in txt:\n",
    "                count_2 = count_2 + 1\n",
    "        \n",
    "        if(brand_1==brand_2):\n",
    "            ans=np.nan\n",
    "\n",
    "        pa = count_1/total_shape\n",
    "        pb = count_2/total_shape\n",
    "        pab = count_3/total_shape\n",
    "        ans = (pa*pb)/pab\n",
    "        \n",
    "        lift_dict[brand_1][brand_2] = round(ans,3)"
   ]
  },
  {
   "cell_type": "code",
   "execution_count": 62,
   "metadata": {},
   "outputs": [
    {
     "data": {
      "text/html": [
       "<div>\n",
       "<style scoped>\n",
       "    .dataframe tbody tr th:only-of-type {\n",
       "        vertical-align: middle;\n",
       "    }\n",
       "\n",
       "    .dataframe tbody tr th {\n",
       "        vertical-align: top;\n",
       "    }\n",
       "\n",
       "    .dataframe thead th {\n",
       "        text-align: right;\n",
       "    }\n",
       "</style>\n",
       "<table border=\"1\" class=\"dataframe\">\n",
       "  <thead>\n",
       "    <tr style=\"text-align: right;\">\n",
       "      <th></th>\n",
       "      <th>toyota</th>\n",
       "      <th>chevrolet</th>\n",
       "      <th>honda</th>\n",
       "      <th>hyundai</th>\n",
       "      <th>mazda</th>\n",
       "      <th>suzuki</th>\n",
       "      <th>ford</th>\n",
       "      <th>bmw</th>\n",
       "      <th>subaru</th>\n",
       "      <th>pontiac</th>\n",
       "    </tr>\n",
       "  </thead>\n",
       "  <tbody>\n",
       "    <tr>\n",
       "      <th>toyota</th>\n",
       "      <td>0.0</td>\n",
       "      <td>0.29</td>\n",
       "      <td>0.223</td>\n",
       "      <td>0.309</td>\n",
       "      <td>0.272</td>\n",
       "      <td>0.242</td>\n",
       "      <td>0.342</td>\n",
       "      <td>0.254</td>\n",
       "      <td>0.435</td>\n",
       "      <td>0.385</td>\n",
       "    </tr>\n",
       "    <tr>\n",
       "      <th>chevrolet</th>\n",
       "      <td>0.29</td>\n",
       "      <td>0.0</td>\n",
       "      <td>0.437</td>\n",
       "      <td>0.277</td>\n",
       "      <td>0.369</td>\n",
       "      <td>0.103</td>\n",
       "      <td>0.265</td>\n",
       "      <td>0.418</td>\n",
       "      <td>0.495</td>\n",
       "      <td>0.483</td>\n",
       "    </tr>\n",
       "    <tr>\n",
       "      <th>honda</th>\n",
       "      <td>0.223</td>\n",
       "      <td>0.437</td>\n",
       "      <td>0.0</td>\n",
       "      <td>0.349</td>\n",
       "      <td>0.266</td>\n",
       "      <td>0.232</td>\n",
       "      <td>0.345</td>\n",
       "      <td>0.355</td>\n",
       "      <td>0.453</td>\n",
       "      <td>0.443</td>\n",
       "    </tr>\n",
       "    <tr>\n",
       "      <th>hyundai</th>\n",
       "      <td>0.309</td>\n",
       "      <td>0.277</td>\n",
       "      <td>0.349</td>\n",
       "      <td>0.0</td>\n",
       "      <td>0.267</td>\n",
       "      <td>0.105</td>\n",
       "      <td>0.229</td>\n",
       "      <td>0.414</td>\n",
       "      <td>0.4</td>\n",
       "      <td>0.913</td>\n",
       "    </tr>\n",
       "    <tr>\n",
       "      <th>mazda</th>\n",
       "      <td>0.272</td>\n",
       "      <td>0.369</td>\n",
       "      <td>0.266</td>\n",
       "      <td>0.267</td>\n",
       "      <td>0.0</td>\n",
       "      <td>0.106</td>\n",
       "      <td>0.252</td>\n",
       "      <td>0.382</td>\n",
       "      <td>0.12</td>\n",
       "      <td>0.692</td>\n",
       "    </tr>\n",
       "    <tr>\n",
       "      <th>suzuki</th>\n",
       "      <td>0.242</td>\n",
       "      <td>0.103</td>\n",
       "      <td>0.232</td>\n",
       "      <td>0.105</td>\n",
       "      <td>0.106</td>\n",
       "      <td>0.0</td>\n",
       "      <td>0.198</td>\n",
       "      <td>0.315</td>\n",
       "      <td>0.133</td>\n",
       "      <td>0.245</td>\n",
       "    </tr>\n",
       "    <tr>\n",
       "      <th>ford</th>\n",
       "      <td>0.342</td>\n",
       "      <td>0.265</td>\n",
       "      <td>0.345</td>\n",
       "      <td>0.229</td>\n",
       "      <td>0.252</td>\n",
       "      <td>0.198</td>\n",
       "      <td>0.0</td>\n",
       "      <td>0.316</td>\n",
       "      <td>0.461</td>\n",
       "      <td>0.618</td>\n",
       "    </tr>\n",
       "    <tr>\n",
       "      <th>bmw</th>\n",
       "      <td>0.254</td>\n",
       "      <td>0.418</td>\n",
       "      <td>0.355</td>\n",
       "      <td>0.414</td>\n",
       "      <td>0.382</td>\n",
       "      <td>0.315</td>\n",
       "      <td>0.316</td>\n",
       "      <td>0.0</td>\n",
       "      <td>0.485</td>\n",
       "      <td>0.296</td>\n",
       "    </tr>\n",
       "    <tr>\n",
       "      <th>subaru</th>\n",
       "      <td>0.435</td>\n",
       "      <td>0.495</td>\n",
       "      <td>0.453</td>\n",
       "      <td>0.4</td>\n",
       "      <td>0.12</td>\n",
       "      <td>0.133</td>\n",
       "      <td>0.461</td>\n",
       "      <td>0.485</td>\n",
       "      <td>0.0</td>\n",
       "      <td>0.493</td>\n",
       "    </tr>\n",
       "    <tr>\n",
       "      <th>pontiac</th>\n",
       "      <td>0.385</td>\n",
       "      <td>0.483</td>\n",
       "      <td>0.443</td>\n",
       "      <td>0.913</td>\n",
       "      <td>0.692</td>\n",
       "      <td>0.245</td>\n",
       "      <td>0.618</td>\n",
       "      <td>0.296</td>\n",
       "      <td>0.493</td>\n",
       "      <td>0.0</td>\n",
       "    </tr>\n",
       "  </tbody>\n",
       "</table>\n",
       "</div>"
      ],
      "text/plain": [
       "          toyota chevrolet  honda hyundai  mazda suzuki   ford    bmw subaru  \\\n",
       "toyota       0.0      0.29  0.223   0.309  0.272  0.242  0.342  0.254  0.435   \n",
       "chevrolet   0.29       0.0  0.437   0.277  0.369  0.103  0.265  0.418  0.495   \n",
       "honda      0.223     0.437    0.0   0.349  0.266  0.232  0.345  0.355  0.453   \n",
       "hyundai    0.309     0.277  0.349     0.0  0.267  0.105  0.229  0.414    0.4   \n",
       "mazda      0.272     0.369  0.266   0.267    0.0  0.106  0.252  0.382   0.12   \n",
       "suzuki     0.242     0.103  0.232   0.105  0.106    0.0  0.198  0.315  0.133   \n",
       "ford       0.342     0.265  0.345   0.229  0.252  0.198    0.0  0.316  0.461   \n",
       "bmw        0.254     0.418  0.355   0.414  0.382  0.315  0.316    0.0  0.485   \n",
       "subaru     0.435     0.495  0.453     0.4   0.12  0.133  0.461  0.485    0.0   \n",
       "pontiac    0.385     0.483  0.443   0.913  0.692  0.245  0.618  0.296  0.493   \n",
       "\n",
       "          pontiac  \n",
       "toyota      0.385  \n",
       "chevrolet   0.483  \n",
       "honda       0.443  \n",
       "hyundai     0.913  \n",
       "mazda       0.692  \n",
       "suzuki      0.245  \n",
       "ford        0.618  \n",
       "bmw         0.296  \n",
       "subaru      0.493  \n",
       "pontiac       0.0  "
      ]
     },
     "execution_count": 62,
     "metadata": {},
     "output_type": "execute_result"
    }
   ],
   "source": [
    "lift_dict"
   ]
  },
  {
   "cell_type": "code",
   "execution_count": 71,
   "metadata": {},
   "outputs": [
    {
     "data": {
      "text/plain": [
       "array([[-0.05239207, -0.12951336],\n",
       "       [ 0.29582948, -0.31203823],\n",
       "       [-0.17451754,  0.03506205],\n",
       "       [ 0.61506785,  0.09087206],\n",
       "       [ 0.26134621,  0.35716961],\n",
       "       [ 0.05870275,  0.50419909],\n",
       "       [ 0.34864387, -0.04210748],\n",
       "       [-0.19444431, -0.38991694],\n",
       "       [-0.34462829,  0.43655144],\n",
       "       [-0.81360794, -0.55027826]])"
      ]
     },
     "execution_count": 71,
     "metadata": {},
     "output_type": "execute_result"
    }
   ],
   "source": [
    "mdslifts = lift_dict\n",
    "mdslifts.reset_index(drop=True, inplace=True)\n",
    "mds = MDS(random_state=0)\n",
    "mdslifts = mds.fit_transform(mdslifts)\n",
    "mdslifts"
   ]
  },
  {
   "cell_type": "code",
   "execution_count": 76,
   "metadata": {},
   "outputs": [
    {
     "data": {
      "image/png": "[encoded data removed]",
      "text/plain": [
       "<Figure size 720x288 with 1 Axes>"
      ]
     },
     "metadata": {
      "needs_background": "light"
     },
     "output_type": "display_data"
    }
   ],
   "source": [
    "colors = ['#41FB29', '#3C83E2', '#C41965', '#E56FC1', '#0F817B', '#60446F', '#E45A2B', '#D4E24F', '#F2CF2B', '#04AFD4']\n",
    "#          toyota\t  chevrolet\t  honda\t    hyundai\t   mazda\t  suzuki\t  ford\t    bmw\t       subaru\t  pontiac\n",
    "size = [64, 64, 64, 64, 64, 64, 64, 64, 64, 64]\n",
    "fig = plt.figure(2, (10,4))\n",
    "ax = fig.add_subplot(122)\n",
    "plt.scatter(mdslifts[:,0], mdslifts[:,1], s=size, c=colors)\n",
    "plt.title('mds')\n",
    "fig.subplots_adjust(wspace=.4, hspace=0.5)\n",
    "plt.show()"
   ]
  },
  {
   "cell_type": "code",
   "execution_count": null,
   "metadata": {},
   "outputs": [],
   "source": []
  }
 ],
 "metadata": {
  "kernelspec": {
   "display_name": "Python 3.9.12 ('base')",
   "language": "python",
   "name": "python3"
  },
  "language_info": {
   "codemirror_mode": {
    "name": "ipython",
    "version": 3
   },
   "file_extension": ".py",
   "mimetype": "text/x-python",
   "name": "python",
   "nbconvert_exporter": "python",
   "pygments_lexer": "ipython3",
   "version": "3.9.12"
  },
  "vscode": {
   "interpreter": {
    "hash": "a2f36d4f0fab32c067f747ee04c69255073dcd12dd897c9c524bc34636b9f1b8"
   }
  }
 },
 "nbformat": 4,
 "nbformat_minor": 2
}
